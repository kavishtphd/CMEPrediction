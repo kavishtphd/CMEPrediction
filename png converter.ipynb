{
 "cells": [
  {
   "cell_type": "code",
   "execution_count": 1,
   "metadata": {
    "collapsed": true
   },
   "outputs": [],
   "source": [
    "from PIL import Image\n",
    "import os\n",
    "#from resizeimage import resizeimage"
   ]
  },
  {
   "cell_type": "code",
   "execution_count": null,
   "metadata": {
    "collapsed": true
   },
   "outputs": [],
   "source": []
  },
  {
   "cell_type": "code",
   "execution_count": 12,
   "metadata": {},
   "outputs": [
    {
     "name": "stdout",
     "output_type": "stream",
     "text": [
      "20031103.jpeg\n",
      "20031103.png\n",
      "opened\n",
      "closed\n",
      "20061205.jpeg\n",
      "20061205.png\n",
      "opened\n",
      "closed\n",
      "20030318.jpeg\n",
      "20030318.png\n",
      "opened\n",
      "closed\n",
      "20031102.jpeg\n",
      "20031102.png\n",
      "opened\n",
      "closed\n",
      "20030528.jpeg\n",
      "20030528.png\n",
      "opened\n",
      "closed\n",
      "20041030.jpeg\n",
      "20041030.png\n",
      "opened\n",
      "closed\n",
      "20061214.jpeg\n",
      "20061214.png\n",
      "opened\n",
      "closed\n",
      "20030611.jpeg\n",
      "20030611.png\n",
      "opened\n",
      "closed\n",
      "20050913.jpeg\n",
      "20050913.png\n",
      "opened\n",
      "closed\n",
      "20050909.jpeg\n",
      "20050909.png\n",
      "opened\n",
      "closed\n",
      "20040818.jpeg\n",
      "20040818.png\n",
      "opened\n",
      "closed\n",
      "20031019.jpeg\n",
      "20031019.png\n",
      "opened\n",
      "closed\n",
      "20050101.jpeg\n",
      "20050101.png\n",
      "opened\n",
      "closed\n",
      "20050910.jpeg\n",
      "20050910.png\n",
      "opened\n",
      "closed\n",
      "20030615.jpeg\n",
      "20030615.png\n",
      "opened\n",
      "closed\n"
     ]
    }
   ],
   "source": [
    "directory = '/Users/kavisht/Documents/ScienceStuff/ScienceFair2018/FINALDATA/Test/X'\n",
    "directory2 = '/Users/kavisht/Documents/ScienceStuff/ScienceFair2018/FINALDATA/PNGHist/X'\n",
    "for file in os.listdir(directory):\n",
    "    filename = os.fsdecode(file)\n",
    "    #filename1 = str.encode(filename)\n",
    "    print(filename)\n",
    "    filename2 = filename[:9] + 'png'\n",
    "    #filename3 = str(filename2)\n",
    "    print(filename2)\n",
    "    try:\n",
    "        im = Image.open(os.path.join(directory, filename))\n",
    "        print('opened')\n",
    "        rgb_im = im.convert('RGB')\n",
    "        im = im.resize((256,256), Image.ANTIALIAS)\n",
    "        im.save(os.path.join(directory2, filename2))\n",
    "        # print(os.path.join(directory2, filename2))\n",
    "        print('closed')\n",
    "    except OSError:\n",
    "        pass"
   ]
  },
  {
   "cell_type": "code",
   "execution_count": null,
   "metadata": {
    "collapsed": true
   },
   "outputs": [],
   "source": []
  }
 ],
 "metadata": {
  "kernelspec": {
   "display_name": "Python 3",
   "language": "python",
   "name": "python3"
  },
  "language_info": {
   "codemirror_mode": {
    "name": "ipython",
    "version": 3
   },
   "file_extension": ".py",
   "mimetype": "text/x-python",
   "name": "python",
   "nbconvert_exporter": "python",
   "pygments_lexer": "ipython3",
   "version": "3.6.3"
  }
 },
 "nbformat": 4,
 "nbformat_minor": 2
}
