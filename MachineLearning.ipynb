{
 "cells": [
  {
   "cell_type": "code",
   "execution_count": 1,
   "metadata": {},
   "outputs": [
    {
     "name": "stderr",
     "output_type": "stream",
     "text": [
      "/anaconda3/envs/tensorflow/lib/python3.6/importlib/_bootstrap.py:219: RuntimeWarning: compiletime version 3.5 of module 'tensorflow.python.framework.fast_tensor_util' does not match runtime version 3.6\n",
      "  return f(*args, **kwds)\n"
     ]
    }
   ],
   "source": [
    "import os\n",
    "import glob\n",
    "import numpy as np\n",
    "import cv2\n",
    "from sklearn.utils import shuffle\n",
    "import time\n",
    "import math\n",
    "import random\n",
    "import pandas as pd\n",
    "import matplotlib.pyplot as plt\n",
    "import tensorflow as tf\n",
    "import dataset11\n",
    "from sklearn.metrics import confusion_matrix\n",
    "from datetime import timedelta\n",
    "%matplotlib inline"
   ]
  },
  {
   "cell_type": "code",
   "execution_count": 47,
   "metadata": {},
   "outputs": [],
   "source": [
    "# Convolutional Layer 1.\n",
    "filter_size1 = 3 \n",
    "num_filters1 = 32\n",
    "\n",
    "# Convolutional Layer 2.\n",
    "filter_size2 = 3\n",
    "num_filters2 = 32\n",
    "\n",
    "# Convolutional Layer 3.\n",
    "filter_size3 = 3\n",
    "num_filters3 = 64\n",
    "\n",
    "# Fully-connected layer.\n",
    "fc_size = 128             # Number of neurons in fully-connected layer.\n",
    "\n",
    "# Number of color channels for the images: 1 channel for gray-scale.\n",
    "num_channels = 1\n",
    "\n",
    "# image dimensions (only squares for now)\n",
    "#img_size = 128\n",
    "img_size = 256\n",
    "\n",
    "# Size of image when flattened to a single dimension\n",
    "img_size_flat = img_size * img_size * num_channels\n",
    "\n",
    "# Tuple with height and width of images used to reshape arrays.\n",
    "img_shape = (img_size, img_size)\n",
    "\n",
    "# class info\n",
    "classes = ['B', 'C', 'M', 'X']\n",
    "#classes = ['dog', 'cat']\n",
    "num_classes = len(classes)\n",
    "\n",
    "# batch size\n",
    "batch_size = 32\n",
    "\n",
    "# validation split\n",
    "validation_size = .16\n",
    "\n",
    "# how long to wait after validation loss stops improving before terminating training\n",
    "early_stopping = False  # use None if you don't want to implement early stoping\n",
    "\n",
    "train_path = '/Users/kavisht/Documents/ScienceStuff/ScienceFair2018/FINALDATA/TrainPNG'\n",
    "#train_path = '/Users/kavisht/Documents/ScienceStuff/ScienceFair2018/train2/'\n",
    "test_path = '/Users/kavisht/Documents/ScienceStuff/ScienceFair2018/FINALDATA/TestPNG/'\n",
    "#test_path = '/Users/kavisht/Documents/ScienceStuff/ScienceFair2018/test'\n",
    "checkpoint_dir = \"/Users/kavisht/Documents/ScienceStuff/ScienceFair2018/modules12\""
   ]
  },
  {
   "cell_type": "code",
   "execution_count": 48,
   "metadata": {
    "scrolled": true
   },
   "outputs": [
    {
     "name": "stdout",
     "output_type": "stream",
     "text": [
      "Reading training images\n",
      "Loading B files (Index: 0)\n",
      "Trainpath /Users/kavisht/Documents/ScienceStuff/ScienceFair2018/FINALDATA/TrainPNG\n",
      "/Users/kavisht/Documents/ScienceStuff/ScienceFair2018/FINALDATA/TrainPNG/B*g\n",
      "/Users/kavisht/Documents/ScienceStuff/ScienceFair2018/FINALDATA/TrainPNG/B.20040529.png\n",
      "/Users/kavisht/Documents/ScienceStuff/ScienceFair2018/FINALDATA/TrainPNG/B.20040924.png\n",
      "/Users/kavisht/Documents/ScienceStuff/ScienceFair2018/FINALDATA/TrainPNG/B.20050316.png\n",
      "/Users/kavisht/Documents/ScienceStuff/ScienceFair2018/FINALDATA/TrainPNG/B.20041227.png\n",
      "/Users/kavisht/Documents/ScienceStuff/ScienceFair2018/FINALDATA/TrainPNG/B.20030804.png\n",
      "/Users/kavisht/Documents/ScienceStuff/ScienceFair2018/FINALDATA/TrainPNG/B.20050129.png\n",
      "/Users/kavisht/Documents/ScienceStuff/ScienceFair2018/FINALDATA/TrainPNG/B.20041226.png\n",
      "/Users/kavisht/Documents/ScienceStuff/ScienceFair2018/FINALDATA/TrainPNG/B.20050317.png\n",
      "/Users/kavisht/Documents/ScienceStuff/ScienceFair2018/FINALDATA/TrainPNG/B.20050303.png\n",
      "/Users/kavisht/Documents/ScienceStuff/ScienceFair2018/FINALDATA/TrainPNG/B.20030408.png\n",
      "/Users/kavisht/Documents/ScienceStuff/ScienceFair2018/FINALDATA/TrainPNG/B.20030226.png\n",
      "/Users/kavisht/Documents/ScienceStuff/ScienceFair2018/FINALDATA/TrainPNG/B.20040927.png\n",
      "/Users/kavisht/Documents/ScienceStuff/ScienceFair2018/FINALDATA/TrainPNG/B.20041218.png\n",
      "/Users/kavisht/Documents/ScienceStuff/ScienceFair2018/FINALDATA/TrainPNG/B.20050329.png\n",
      "/Users/kavisht/Documents/ScienceStuff/ScienceFair2018/FINALDATA/TrainPNG/B.20040310.png\n",
      "/Users/kavisht/Documents/ScienceStuff/ScienceFair2018/FINALDATA/TrainPNG/B.20040701.png\n",
      "/Users/kavisht/Documents/ScienceStuff/ScienceFair2018/FINALDATA/TrainPNG/B.20031107.png\n",
      "/Users/kavisht/Documents/ScienceStuff/ScienceFair2018/FINALDATA/TrainPNG/B.20040926.png\n",
      "/Users/kavisht/Documents/ScienceStuff/ScienceFair2018/FINALDATA/TrainPNG/B.20030225.png\n",
      "/Users/kavisht/Documents/ScienceStuff/ScienceFair2018/FINALDATA/TrainPNG/B.20040705.png\n",
      "/Users/kavisht/Documents/ScienceStuff/ScienceFair2018/FINALDATA/TrainPNG/B.20041221.png\n",
      "/Users/kavisht/Documents/ScienceStuff/ScienceFair2018/FINALDATA/TrainPNG/B.20050304.png\n",
      "/Users/kavisht/Documents/ScienceStuff/ScienceFair2018/FINALDATA/TrainPNG/B.20030619.png\n",
      "/Users/kavisht/Documents/ScienceStuff/ScienceFair2018/FINALDATA/TrainPNG/B.20040301.png\n",
      "/Users/kavisht/Documents/ScienceStuff/ScienceFair2018/FINALDATA/TrainPNG/B.20040315.png\n",
      "/Users/kavisht/Documents/ScienceStuff/ScienceFair2018/FINALDATA/TrainPNG/B.20040314.png\n",
      "/Users/kavisht/Documents/ScienceStuff/ScienceFair2018/FINALDATA/TrainPNG/B.20041220.png\n",
      "/Users/kavisht/Documents/ScienceStuff/ScienceFair2018/FINALDATA/TrainPNG/B.20040704.png\n",
      "/Users/kavisht/Documents/ScienceStuff/ScienceFair2018/FINALDATA/TrainPNG/B.20040504.png\n",
      "/Users/kavisht/Documents/ScienceStuff/ScienceFair2018/FINALDATA/TrainPNG/B.20040510.png\n",
      "/Users/kavisht/Documents/ScienceStuff/ScienceFair2018/FINALDATA/TrainPNG/B.20040706.png\n",
      "/Users/kavisht/Documents/ScienceStuff/ScienceFair2018/FINALDATA/TrainPNG/B.20041008.png\n",
      "/Users/kavisht/Documents/ScienceStuff/ScienceFair2018/FINALDATA/TrainPNG/B.20040316.png\n",
      "/Users/kavisht/Documents/ScienceStuff/ScienceFair2018/FINALDATA/TrainPNG/B.20050105.png\n",
      "/Users/kavisht/Documents/ScienceStuff/ScienceFair2018/FINALDATA/TrainPNG/B.20040303.png\n",
      "/Users/kavisht/Documents/ScienceStuff/ScienceFair2018/FINALDATA/TrainPNG/B.20050306.png\n",
      "/Users/kavisht/Documents/ScienceStuff/ScienceFair2018/FINALDATA/TrainPNG/B.20030419.png\n",
      "/Users/kavisht/Documents/ScienceStuff/ScienceFair2018/FINALDATA/TrainPNG/B.20040210.png\n",
      "/Users/kavisht/Documents/ScienceStuff/ScienceFair2018/FINALDATA/TrainPNG/B.20041126.png\n",
      "/Users/kavisht/Documents/ScienceStuff/ScienceFair2018/FINALDATA/TrainPNG/B.20031012.png\n",
      "/Users/kavisht/Documents/ScienceStuff/ScienceFair2018/FINALDATA/TrainPNG/B.20031006.png\n",
      "/Users/kavisht/Documents/ScienceStuff/ScienceFair2018/FINALDATA/TrainPNG/B.20050407.png\n",
      "/Users/kavisht/Documents/ScienceStuff/ScienceFair2018/FINALDATA/TrainPNG/B.20040402.png\n",
      "/Users/kavisht/Documents/ScienceStuff/ScienceFair2018/FINALDATA/TrainPNG/B.20040403.png\n",
      "/Users/kavisht/Documents/ScienceStuff/ScienceFair2018/FINALDATA/TrainPNG/B.20031211.png\n",
      "/Users/kavisht/Documents/ScienceStuff/ScienceFair2018/FINALDATA/TrainPNG/B.20040629.png\n",
      "/Users/kavisht/Documents/ScienceStuff/ScienceFair2018/FINALDATA/TrainPNG/B.20031013.png\n",
      "/Users/kavisht/Documents/ScienceStuff/ScienceFair2018/FINALDATA/TrainPNG/B.20030325.png\n",
      "/Users/kavisht/Documents/ScienceStuff/ScienceFair2018/FINALDATA/TrainPNG/B.20030523.png\n",
      "/Users/kavisht/Documents/ScienceStuff/ScienceFair2018/FINALDATA/TrainPNG/B.20030912.png\n",
      "/Users/kavisht/Documents/ScienceStuff/ScienceFair2018/FINALDATA/TrainPNG/B.20040211.png\n",
      "/Users/kavisht/Documents/ScienceStuff/ScienceFair2018/FINALDATA/TrainPNG/B.20030910.png\n",
      "/Users/kavisht/Documents/ScienceStuff/ScienceFair2018/FINALDATA/TrainPNG/B.20040824.png\n",
      "/Users/kavisht/Documents/ScienceStuff/ScienceFair2018/FINALDATA/TrainPNG/B.20031011.png\n",
      "/Users/kavisht/Documents/ScienceStuff/ScienceFair2018/FINALDATA/TrainPNG/B.20040603.png\n",
      "/Users/kavisht/Documents/ScienceStuff/ScienceFair2018/FINALDATA/TrainPNG/B.20050404.png\n",
      "/Users/kavisht/Documents/ScienceStuff/ScienceFair2018/FINALDATA/TrainPNG/B.20030119.png\n",
      "/Users/kavisht/Documents/ScienceStuff/ScienceFair2018/FINALDATA/TrainPNG/B.20031213.png\n",
      "/Users/kavisht/Documents/ScienceStuff/ScienceFair2018/FINALDATA/TrainPNG/B.20040429.png\n",
      "/Users/kavisht/Documents/ScienceStuff/ScienceFair2018/FINALDATA/TrainPNG/B.20040428.png\n",
      "/Users/kavisht/Documents/ScienceStuff/ScienceFair2018/FINALDATA/TrainPNG/B.20040414.png\n",
      "/Users/kavisht/Documents/ScienceStuff/ScienceFair2018/FINALDATA/TrainPNG/B.20031212.png\n",
      "/Users/kavisht/Documents/ScienceStuff/ScienceFair2018/FINALDATA/TrainPNG/B.20030118.png\n",
      "/Users/kavisht/Documents/ScienceStuff/ScienceFair2018/FINALDATA/TrainPNG/B.20030130.png\n",
      "/Users/kavisht/Documents/ScienceStuff/ScienceFair2018/FINALDATA/TrainPNG/B.20040602.png\n",
      "/Users/kavisht/Documents/ScienceStuff/ScienceFair2018/FINALDATA/TrainPNG/B.20040206.png\n",
      "/Users/kavisht/Documents/ScienceStuff/ScienceFair2018/FINALDATA/TrainPNG/B.20030726.png\n",
      "/Users/kavisht/Documents/ScienceStuff/ScienceFair2018/FINALDATA/TrainPNG/B.20030901.png\n",
      "/Users/kavisht/Documents/ScienceStuff/ScienceFair2018/FINALDATA/TrainPNG/B.20041120.png\n",
      "/Users/kavisht/Documents/ScienceStuff/ScienceFair2018/FINALDATA/TrainPNG/B.20030518.png\n",
      "/Users/kavisht/Documents/ScienceStuff/ScienceFair2018/FINALDATA/TrainPNG/B.20030524.png\n",
      "/Users/kavisht/Documents/ScienceStuff/ScienceFair2018/FINALDATA/TrainPNG/B.20040410.png\n",
      "/Users/kavisht/Documents/ScienceStuff/ScienceFair2018/FINALDATA/TrainPNG/B.20040607.png\n",
      "/Users/kavisht/Documents/ScienceStuff/ScienceFair2018/FINALDATA/TrainPNG/B.20031015.png\n",
      "/Users/kavisht/Documents/ScienceStuff/ScienceFair2018/FINALDATA/TrainPNG/B.20030519.png\n",
      "/Users/kavisht/Documents/ScienceStuff/ScienceFair2018/FINALDATA/TrainPNG/B.20041121.png\n",
      "/Users/kavisht/Documents/ScienceStuff/ScienceFair2018/FINALDATA/TrainPNG/B.20030727.png\n",
      "/Users/kavisht/Documents/ScienceStuff/ScienceFair2018/FINALDATA/TrainPNG/B.20040215.png\n",
      "/Users/kavisht/Documents/ScienceStuff/ScienceFair2018/FINALDATA/TrainPNG/B.20031017.png\n",
      "/Users/kavisht/Documents/ScienceStuff/ScienceFair2018/FINALDATA/TrainPNG/B.20040822.png\n",
      "/Users/kavisht/Documents/ScienceStuff/ScienceFair2018/FINALDATA/TrainPNG/B.20040611.png\n",
      "/Users/kavisht/Documents/ScienceStuff/ScienceFair2018/FINALDATA/TrainPNG/B.20031215.png\n",
      "/Users/kavisht/Documents/ScienceStuff/ScienceFair2018/FINALDATA/TrainPNG/B.20040413.png\n",
      "/Users/kavisht/Documents/ScienceStuff/ScienceFair2018/FINALDATA/TrainPNG/B.20031228.png\n",
      "/Users/kavisht/Documents/ScienceStuff/ScienceFair2018/FINALDATA/TrainPNG/B.20050403.png\n",
      "/Users/kavisht/Documents/ScienceStuff/ScienceFair2018/FINALDATA/TrainPNG/B.20040610.png\n",
      "/Users/kavisht/Documents/ScienceStuff/ScienceFair2018/FINALDATA/TrainPNG/B.20040823.png\n",
      "/Users/kavisht/Documents/ScienceStuff/ScienceFair2018/FINALDATA/TrainPNG/B.20031016.png\n",
      "/Users/kavisht/Documents/ScienceStuff/ScienceFair2018/FINALDATA/TrainPNG/B.20040214.png\n",
      "/Users/kavisht/Documents/ScienceStuff/ScienceFair2018/FINALDATA/TrainPNG/B.20030903.png\n",
      "/Users/kavisht/Documents/ScienceStuff/ScienceFair2018/FINALDATA/TrainPNG/B.20040219.png\n",
      "/Users/kavisht/Documents/ScienceStuff/ScienceFair2018/FINALDATA/TrainPNG/B.20050220.png\n"
     ]
    },
    {
     "name": "stdout",
     "output_type": "stream",
     "text": [
      "/Users/kavisht/Documents/ScienceStuff/ScienceFair2018/FINALDATA/TrainPNG/B.20040806.png\n",
      "/Users/kavisht/Documents/ScienceStuff/ScienceFair2018/FINALDATA/TrainPNG/B.20040608.png\n",
      "/Users/kavisht/Documents/ScienceStuff/ScienceFair2018/FINALDATA/TrainPNG/B.20030304.png\n",
      "/Users/kavisht/Documents/ScienceStuff/ScienceFair2018/FINALDATA/TrainPNG/B.20050221.png\n",
      "/Users/kavisht/Documents/ScienceStuff/ScienceFair2018/FINALDATA/TrainPNG/B.20040218.png\n",
      "/Users/kavisht/Documents/ScienceStuff/ScienceFair2018/FINALDATA/TrainPNG/B.20040224.png\n",
      "/Users/kavisht/Documents/ScienceStuff/ScienceFair2018/FINALDATA/TrainPNG/B.20030306.png\n",
      "/Users/kavisht/Documents/ScienceStuff/ScienceFair2018/FINALDATA/TrainPNG/B.20030312.png\n",
      "/Users/kavisht/Documents/ScienceStuff/ScienceFair2018/FINALDATA/TrainPNG/B.20040805.png\n",
      "/Users/kavisht/Documents/ScienceStuff/ScienceFair2018/FINALDATA/TrainPNG/B.20030307.png\n",
      "/Users/kavisht/Documents/ScienceStuff/ScienceFair2018/FINALDATA/TrainPNG/B.20050222.png\n",
      "/Users/kavisht/Documents/ScienceStuff/ScienceFair2018/FINALDATA/TrainPNG/B.20030515.png\n",
      "/Users/kavisht/Documents/ScienceStuff/ScienceFair2018/FINALDATA/TrainPNG/B.20040223.png\n",
      "/Users/kavisht/Documents/ScienceStuff/ScienceFair2018/FINALDATA/TrainPNG/B.20030511.png\n",
      "/Users/kavisht/Documents/ScienceStuff/ScienceFair2018/FINALDATA/TrainPNG/B.20030101.png\n",
      "/Users/kavisht/Documents/ScienceStuff/ScienceFair2018/FINALDATA/TrainPNG/B.20040418.png\n",
      "/Users/kavisht/Documents/ScienceStuff/ScienceFair2018/FINALDATA/TrainPNG/B.20040801.png\n",
      "/Users/kavisht/Documents/ScienceStuff/ScienceFair2018/FINALDATA/TrainPNG/B.20030510.png\n",
      "/Users/kavisht/Documents/ScienceStuff/ScienceFair2018/FINALDATA/TrainPNG/B.20041128.png\n",
      "/Users/kavisht/Documents/ScienceStuff/ScienceFair2018/FINALDATA/TrainPNG/B.20040220.png\n",
      "/Users/kavisht/Documents/ScienceStuff/ScienceFair2018/FINALDATA/TrainPNG/B.20040803.png\n",
      "/Users/kavisht/Documents/ScienceStuff/ScienceFair2018/FINALDATA/TrainPNG/B.20031209.png\n",
      "/Users/kavisht/Documents/ScienceStuff/ScienceFair2018/FINALDATA/TrainPNG/B.20040221.png\n",
      "/Users/kavisht/Documents/ScienceStuff/ScienceFair2018/FINALDATA/TrainPNG/B.20041117.png\n",
      "/Users/kavisht/Documents/ScienceStuff/ScienceFair2018/FINALDATA/TrainPNG/B.20041206.png\n",
      "/Users/kavisht/Documents/ScienceStuff/ScienceFair2018/FINALDATA/TrainPNG/B.20040326.png\n",
      "/Users/kavisht/Documents/ScienceStuff/ScienceFair2018/FINALDATA/TrainPNG/B.20041213.png\n",
      "/Users/kavisht/Documents/ScienceStuff/ScienceFair2018/FINALDATA/TrainPNG/B.20050322.png\n",
      "/Users/kavisht/Documents/ScienceStuff/ScienceFair2018/FINALDATA/TrainPNG/B.20030415.png\n",
      "/Users/kavisht/Documents/ScienceStuff/ScienceFair2018/FINALDATA/TrainPNG/B.20040906.png\n",
      "/Users/kavisht/Documents/ScienceStuff/ScienceFair2018/FINALDATA/TrainPNG/B.20040127.png\n",
      "/Users/kavisht/Documents/ScienceStuff/ScienceFair2018/FINALDATA/TrainPNG/B.20041205.png\n",
      "/Users/kavisht/Documents/ScienceStuff/ScienceFair2018/FINALDATA/TrainPNG/B.20041211.png\n",
      "/Users/kavisht/Documents/ScienceStuff/ScienceFair2018/FINALDATA/TrainPNG/B.20041007.png\n",
      "/Users/kavisht/Documents/ScienceStuff/ScienceFair2018/FINALDATA/TrainPNG/B.20041012.png\n",
      "/Users/kavisht/Documents/ScienceStuff/ScienceFair2018/FINALDATA/TrainPNG/B.20041210.png\n",
      "/Users/kavisht/Documents/ScienceStuff/ScienceFair2018/FINALDATA/TrainPNG/B.20041204.png\n",
      "/Users/kavisht/Documents/ScienceStuff/ScienceFair2018/FINALDATA/TrainPNG/B.20030416.png\n",
      "/Users/kavisht/Documents/ScienceStuff/ScienceFair2018/FINALDATA/TrainPNG/B.20040708.png\n",
      "/Users/kavisht/Documents/ScienceStuff/ScienceFair2018/FINALDATA/TrainPNG/B.20040917.png\n",
      "/Users/kavisht/Documents/ScienceStuff/ScienceFair2018/FINALDATA/TrainPNG/B.20030412.png\n",
      "/Users/kavisht/Documents/ScienceStuff/ScienceFair2018/FINALDATA/TrainPNG/B.20041214.png\n",
      "/Users/kavisht/Documents/ScienceStuff/ScienceFair2018/FINALDATA/TrainPNG/B.20040122.png\n",
      "/Users/kavisht/Documents/ScienceStuff/ScienceFair2018/FINALDATA/TrainPNG/B.20041002.png\n",
      "/Users/kavisht/Documents/ScienceStuff/ScienceFair2018/FINALDATA/TrainPNG/B.20041016.png\n",
      "/Users/kavisht/Documents/ScienceStuff/ScienceFair2018/FINALDATA/TrainPNG/B.20050127.png\n",
      "/Users/kavisht/Documents/ScienceStuff/ScienceFair2018/FINALDATA/TrainPNG/B.20041017.png\n",
      "/Users/kavisht/Documents/ScienceStuff/ScienceFair2018/FINALDATA/TrainPNG/B.20040123.png\n",
      "/Users/kavisht/Documents/ScienceStuff/ScienceFair2018/FINALDATA/TrainPNG/B.20041215.png\n",
      "/Users/kavisht/Documents/ScienceStuff/ScienceFair2018/FINALDATA/TrainPNG/B.20040902.png\n",
      "/Users/kavisht/Documents/ScienceStuff/ScienceFair2018/FINALDATA/TrainPNG/B.20040916.png\n",
      "/Users/kavisht/Documents/ScienceStuff/ScienceFair2018/FINALDATA/TrainPNG/B.20031109.png\n",
      "/Users/kavisht/Documents/ScienceStuff/ScienceFair2018/FINALDATA/TrainPNG/B.20041203.png\n",
      "/Users/kavisht/Documents/ScienceStuff/ScienceFair2018/FINALDATA/TrainPNG/B.20041015.png\n",
      "/Users/kavisht/Documents/ScienceStuff/ScienceFair2018/FINALDATA/TrainPNG/B.20050130.png\n",
      "/Users/kavisht/Documents/ScienceStuff/ScienceFair2018/FINALDATA/TrainPNG/B.20030809.png\n",
      "/Users/kavisht/Documents/ScienceStuff/ScienceFair2018/FINALDATA/TrainPNG/B.20041216.png\n",
      "/Users/kavisht/Documents/ScienceStuff/ScienceFair2018/FINALDATA/TrainPNG/B.20030410.png\n",
      "Loading C files (Index: 1)\n",
      "Trainpath /Users/kavisht/Documents/ScienceStuff/ScienceFair2018/FINALDATA/TrainPNG\n",
      "/Users/kavisht/Documents/ScienceStuff/ScienceFair2018/FINALDATA/TrainPNG/C*g\n",
      "/Users/kavisht/Documents/ScienceStuff/ScienceFair2018/FINALDATA/TrainPNG/C.20050311.png\n",
      "/Users/kavisht/Documents/ScienceStuff/ScienceFair2018/FINALDATA/TrainPNG/C.20030630.png\n",
      "/Users/kavisht/Documents/ScienceStuff/ScienceFair2018/FINALDATA/TrainPNG/C.20100917.png\n",
      "/Users/kavisht/Documents/ScienceStuff/ScienceFair2018/FINALDATA/TrainPNG/C.20050113.png\n",
      "/Users/kavisht/Documents/ScienceStuff/ScienceFair2018/FINALDATA/TrainPNG/C.20060615.png\n",
      "/Users/kavisht/Documents/ScienceStuff/ScienceFair2018/FINALDATA/TrainPNG/C.20050701.png\n",
      "/Users/kavisht/Documents/ScienceStuff/ScienceFair2018/FINALDATA/TrainPNG/C.20050715.png\n",
      "/Users/kavisht/Documents/ScienceStuff/ScienceFair2018/FINALDATA/TrainPNG/C.20031116.png\n",
      "/Users/kavisht/Documents/ScienceStuff/ScienceFair2018/FINALDATA/TrainPNG/C.20030816.png\n",
      "/Users/kavisht/Documents/ScienceStuff/ScienceFair2018/FINALDATA/TrainPNG/C.20041023.png\n",
      "/Users/kavisht/Documents/ScienceStuff/ScienceFair2018/FINALDATA/TrainPNG/C.20091028.png\n",
      "/Users/kavisht/Documents/ScienceStuff/ScienceFair2018/FINALDATA/TrainPNG/C.20030625.png\n",
      "/Users/kavisht/Documents/ScienceStuff/ScienceFair2018/FINALDATA/TrainPNG/C.20040115.png\n",
      "/Users/kavisht/Documents/ScienceStuff/ScienceFair2018/FINALDATA/TrainPNG/C.20050312.png\n",
      "/Users/kavisht/Documents/ScienceStuff/ScienceFair2018/FINALDATA/TrainPNG/C.20040101.png\n",
      "/Users/kavisht/Documents/ScienceStuff/ScienceFair2018/FINALDATA/TrainPNG/C.20030828.png\n",
      "/Users/kavisht/Documents/ScienceStuff/ScienceFair2018/FINALDATA/TrainPNG/C.20050110.png\n",
      "/Users/kavisht/Documents/ScienceStuff/ScienceFair2018/FINALDATA/TrainPNG/C.20100121.png\n",
      "/Users/kavisht/Documents/ScienceStuff/ScienceFair2018/FINALDATA/TrainPNG/C.20050702.png\n",
      "/Users/kavisht/Documents/ScienceStuff/ScienceFair2018/FINALDATA/TrainPNG/C.20100109.png\n",
      "/Users/kavisht/Documents/ScienceStuff/ScienceFair2018/FINALDATA/TrainPNG/C.20070607.png\n",
      "/Users/kavisht/Documents/ScienceStuff/ScienceFair2018/FINALDATA/TrainPNG/C.20060428.png\n",
      "/Users/kavisht/Documents/ScienceStuff/ScienceFair2018/FINALDATA/TrainPNG/C.20040920.png\n",
      "/Users/kavisht/Documents/ScienceStuff/ScienceFair2018/FINALDATA/TrainPNG/C.20050528.png\n",
      "/Users/kavisht/Documents/ScienceStuff/ScienceFair2018/FINALDATA/TrainPNG/C.20031128.png\n",
      "/Users/kavisht/Documents/ScienceStuff/ScienceFair2018/FINALDATA/TrainPNG/C.20030222.png\n",
      "/Users/kavisht/Documents/ScienceStuff/ScienceFair2018/FINALDATA/TrainPNG/C.20030801.png\n",
      "/Users/kavisht/Documents/ScienceStuff/ScienceFair2018/FINALDATA/TrainPNG/C.20040302.png\n",
      "/Users/kavisht/Documents/ScienceStuff/ScienceFair2018/FINALDATA/TrainPNG/C.20041222.png\n",
      "/Users/kavisht/Documents/ScienceStuff/ScienceFair2018/FINALDATA/TrainPNG/C.20100508.png\n",
      "/Users/kavisht/Documents/ScienceStuff/ScienceFair2018/FINALDATA/TrainPNG/C.20040104.png\n",
      "/Users/kavisht/Documents/ScienceStuff/ScienceFair2018/FINALDATA/TrainPNG/C.20030622.png\n",
      "/Users/kavisht/Documents/ScienceStuff/ScienceFair2018/FINALDATA/TrainPNG/C.20050920.png\n",
      "/Users/kavisht/Documents/ScienceStuff/ScienceFair2018/FINALDATA/TrainPNG/C.20060820.png\n",
      "/Users/kavisht/Documents/ScienceStuff/ScienceFair2018/FINALDATA/TrainPNG/C.20031110.png\n"
     ]
    },
    {
     "name": "stdout",
     "output_type": "stream",
     "text": [
      "/Users/kavisht/Documents/ScienceStuff/ScienceFair2018/FINALDATA/TrainPNG/C.20101004.png\n",
      "/Users/kavisht/Documents/ScienceStuff/ScienceFair2018/FINALDATA/TrainPNG/C.20050505.png\n",
      "/Users/kavisht/Documents/ScienceStuff/ScienceFair2018/FINALDATA/TrainPNG/C.20100327.png\n",
      "/Users/kavisht/Documents/ScienceStuff/ScienceFair2018/FINALDATA/TrainPNG/C.20030227.png\n",
      "/Users/kavisht/Documents/ScienceStuff/ScienceFair2018/FINALDATA/TrainPNG/C.20040515.png\n",
      "/Users/kavisht/Documents/ScienceStuff/ScienceFair2018/FINALDATA/TrainPNG/C.20060821.png\n",
      "/Users/kavisht/Documents/ScienceStuff/ScienceFair2018/FINALDATA/TrainPNG/C.20030812.png\n",
      "/Users/kavisht/Documents/ScienceStuff/ScienceFair2018/FINALDATA/TrainPNG/C.20040305.png\n",
      "/Users/kavisht/Documents/ScienceStuff/ScienceFair2018/FINALDATA/TrainPNG/C.20040517.png\n",
      "/Users/kavisht/Documents/ScienceStuff/ScienceFair2018/FINALDATA/TrainPNG/C.20050710.png\n",
      "/Users/kavisht/Documents/ScienceStuff/ScienceFair2018/FINALDATA/TrainPNG/C.20030219.png\n",
      "/Users/kavisht/Documents/ScienceStuff/ScienceFair2018/FINALDATA/TrainPNG/C.20040502.png\n",
      "/Users/kavisht/Documents/ScienceStuff/ScienceFair2018/FINALDATA/TrainPNG/C.20100720.png\n",
      "/Users/kavisht/Documents/ScienceStuff/ScienceFair2018/FINALDATA/TrainPNG/C.20041224.png\n",
      "/Users/kavisht/Documents/ScienceStuff/ScienceFair2018/FINALDATA/TrainPNG/C.20040820.png\n",
      "/Users/kavisht/Documents/ScienceStuff/ScienceFair2018/FINALDATA/TrainPNG/C.20050428.png\n",
      "/Users/kavisht/Documents/ScienceStuff/ScienceFair2018/FINALDATA/TrainPNG/C.20031217.png\n",
      "/Users/kavisht/Documents/ScienceStuff/ScienceFair2018/FINALDATA/TrainPNG/C.20050602.png\n",
      "/Users/kavisht/Documents/ScienceStuff/ScienceFair2018/FINALDATA/TrainPNG/C.20100814.png\n",
      "/Users/kavisht/Documents/ScienceStuff/ScienceFair2018/FINALDATA/TrainPNG/C.20030928.png\n",
      "/Users/kavisht/Documents/ScienceStuff/ScienceFair2018/FINALDATA/TrainPNG/C.20040203.png\n",
      "/Users/kavisht/Documents/ScienceStuff/ScienceFair2018/FINALDATA/TrainPNG/C.20051119.png\n",
      "/Users/kavisht/Documents/ScienceStuff/ScienceFair2018/FINALDATA/TrainPNG/C.20030530.png\n",
      "/Users/kavisht/Documents/ScienceStuff/ScienceFair2018/FINALDATA/TrainPNG/C.20040404.png\n",
      "/Users/kavisht/Documents/ScienceStuff/ScienceFair2018/FINALDATA/TrainPNG/C.20050830.png\n",
      "/Users/kavisht/Documents/ScienceStuff/ScienceFair2018/FINALDATA/TrainPNG/C.20040809.png\n",
      "/Users/kavisht/Documents/ScienceStuff/ScienceFair2018/FINALDATA/TrainPNG/C.20030308.png\n",
      "/Users/kavisht/Documents/ScienceStuff/ScienceFair2018/FINALDATA/TrainPNG/C.20031002.png\n",
      "/Users/kavisht/Documents/ScienceStuff/ScienceFair2018/FINALDATA/TrainPNG/C.20031214.png\n",
      "/Users/kavisht/Documents/ScienceStuff/ScienceFair2018/FINALDATA/TrainPNG/C.20061231.png\n",
      "/Users/kavisht/Documents/ScienceStuff/ScienceFair2018/FINALDATA/TrainPNG/C.20100817.png\n",
      "/Users/kavisht/Documents/ScienceStuff/ScienceFair2018/FINALDATA/TrainPNG/C.20050211.png\n",
      "/Users/kavisht/Documents/ScienceStuff/ScienceFair2018/FINALDATA/TrainPNG/C.20050204.png\n",
      "/Users/kavisht/Documents/ScienceStuff/ScienceFair2018/FINALDATA/TrainPNG/C.20030725.png\n",
      "/Users/kavisht/Documents/ScienceStuff/ScienceFair2018/FINALDATA/TrainPNG/C.20030321.png\n",
      "/Users/kavisht/Documents/ScienceStuff/ScienceFair2018/FINALDATA/TrainPNG/C.20101113.png\n",
      "/Users/kavisht/Documents/ScienceStuff/ScienceFair2018/FINALDATA/TrainPNG/C.20050406.png\n",
      "/Users/kavisht/Documents/ScienceStuff/ScienceFair2018/FINALDATA/TrainPNG/C.20050412.png\n",
      "/Users/kavisht/Documents/ScienceStuff/ScienceFair2018/FINALDATA/TrainPNG/C.20030127.png\n",
      "/Users/kavisht/Documents/ScienceStuff/ScienceFair2018/FINALDATA/TrainPNG/C.20050610.png\n",
      "/Users/kavisht/Documents/ScienceStuff/ScienceFair2018/FINALDATA/TrainPNG/C.20071231.png\n",
      "/Users/kavisht/Documents/ScienceStuff/ScienceFair2018/FINALDATA/TrainPNG/C.20050215.png\n",
      "/Users/kavisht/Documents/ScienceStuff/ScienceFair2018/FINALDATA/TrainPNG/C.20030913.png\n",
      "/Users/kavisht/Documents/ScienceStuff/ScienceFair2018/FINALDATA/TrainPNG/C.20030720.png\n",
      "/Users/kavisht/Documents/ScienceStuff/ScienceFair2018/FINALDATA/TrainPNG/C.20060705.png\n",
      "/Users/kavisht/Documents/ScienceStuff/ScienceFair2018/FINALDATA/TrainPNG/C.20031204.png\n",
      "/Users/kavisht/Documents/ScienceStuff/ScienceFair2018/FINALDATA/TrainPNG/C.20030330.png\n",
      "/Users/kavisht/Documents/ScienceStuff/ScienceFair2018/FINALDATA/TrainPNG/C.20030326.png\n",
      "/Users/kavisht/Documents/ScienceStuff/ScienceFair2018/FINALDATA/TrainPNG/C.20040616.png\n",
      "/Users/kavisht/Documents/ScienceStuff/ScienceFair2018/FINALDATA/TrainPNG/C.20060101.png\n",
      "/Users/kavisht/Documents/ScienceStuff/ScienceFair2018/FINALDATA/TrainPNG/C.20030722.png\n",
      "/Users/kavisht/Documents/ScienceStuff/ScienceFair2018/FINALDATA/TrainPNG/C.20041130.png\n",
      "/Users/kavisht/Documents/ScienceStuff/ScienceFair2018/FINALDATA/TrainPNG/C.20030508.png\n",
      "/Users/kavisht/Documents/ScienceStuff/ScienceFair2018/FINALDATA/TrainPNG/C.20030509.png\n",
      "/Users/kavisht/Documents/ScienceStuff/ScienceFair2018/FINALDATA/TrainPNG/C.20040207.png\n",
      "/Users/kavisht/Documents/ScienceStuff/ScienceFair2018/FINALDATA/TrainPNG/C.20041119.png\n",
      "/Users/kavisht/Documents/ScienceStuff/ScienceFair2018/FINALDATA/TrainPNG/C.20030904.png\n",
      "/Users/kavisht/Documents/ScienceStuff/ScienceFair2018/FINALDATA/TrainPNG/C.20041125.png\n",
      "/Users/kavisht/Documents/ScienceStuff/ScienceFair2018/FINALDATA/TrainPNG/C.20030125.png\n",
      "/Users/kavisht/Documents/ScienceStuff/ScienceFair2018/FINALDATA/TrainPNG/C.20101111.png\n",
      "/Users/kavisht/Documents/ScienceStuff/ScienceFair2018/FINALDATA/TrainPNG/C.20040830.png\n",
      "/Users/kavisht/Documents/ScienceStuff/ScienceFair2018/FINALDATA/TrainPNG/C.20031005.png\n",
      "/Users/kavisht/Documents/ScienceStuff/ScienceFair2018/FINALDATA/TrainPNG/C.20031222.png\n",
      "/Users/kavisht/Documents/ScienceStuff/ScienceFair2018/FINALDATA/TrainPNG/C.20050804.png\n",
      "/Users/kavisht/Documents/ScienceStuff/ScienceFair2018/FINALDATA/TrainPNG/C.20071217.png\n",
      "/Users/kavisht/Documents/ScienceStuff/ScienceFair2018/FINALDATA/TrainPNG/C.20070121.png\n",
      "/Users/kavisht/Documents/ScienceStuff/ScienceFair2018/FINALDATA/TrainPNG/C.20030505.png\n",
      "/Users/kavisht/Documents/ScienceStuff/ScienceFair2018/FINALDATA/TrainPNG/C.20060124.png\n",
      "/Users/kavisht/Documents/ScienceStuff/ScienceFair2018/FINALDATA/TrainPNG/C.20060911.png\n",
      "/Users/kavisht/Documents/ScienceStuff/ScienceFair2018/FINALDATA/TrainPNG/C.20050805.png\n",
      "/Users/kavisht/Documents/ScienceStuff/ScienceFair2018/FINALDATA/TrainPNG/C.20070531.png\n",
      "/Users/kavisht/Documents/ScienceStuff/ScienceFair2018/FINALDATA/TrainPNG/C.20030329.png\n",
      "/Users/kavisht/Documents/ScienceStuff/ScienceFair2018/FINALDATA/TrainPNG/C.20040625.png\n",
      "/Users/kavisht/Documents/ScienceStuff/ScienceFair2018/FINALDATA/TrainPNG/C.20040619.png\n",
      "/Users/kavisht/Documents/ScienceStuff/ScienceFair2018/FINALDATA/TrainPNG/C.20031221.png\n",
      "/Users/kavisht/Documents/ScienceStuff/ScienceFair2018/FINALDATA/TrainPNG/C.20050218.png\n",
      "/Users/kavisht/Documents/ScienceStuff/ScienceFair2018/FINALDATA/TrainPNG/C.20051106.png\n",
      "/Users/kavisht/Documents/ScienceStuff/ScienceFair2018/FINALDATA/TrainPNG/C.20071214.png\n",
      "/Users/kavisht/Documents/ScienceStuff/ScienceFair2018/FINALDATA/TrainPNG/C.20050609.png\n",
      "/Users/kavisht/Documents/ScienceStuff/ScienceFair2018/FINALDATA/TrainPNG/C.20050621.png\n",
      "/Users/kavisht/Documents/ScienceStuff/ScienceFair2018/FINALDATA/TrainPNG/C.20030116.png\n",
      "/Users/kavisht/Documents/ScienceStuff/ScienceFair2018/FINALDATA/TrainPNG/C.20040624.png\n",
      "/Users/kavisht/Documents/ScienceStuff/ScienceFair2018/FINALDATA/TrainPNG/C.20030314.png\n",
      "/Users/kavisht/Documents/ScienceStuff/ScienceFair2018/FINALDATA/TrainPNG/C.20070708.png\n",
      "/Users/kavisht/Documents/ScienceStuff/ScienceFair2018/FINALDATA/TrainPNG/C.20100614.png\n",
      "/Users/kavisht/Documents/ScienceStuff/ScienceFair2018/FINALDATA/TrainPNG/C.20060321.png\n",
      "/Users/kavisht/Documents/ScienceStuff/ScienceFair2018/FINALDATA/TrainPNG/C.20051117.png\n",
      "/Users/kavisht/Documents/ScienceStuff/ScienceFair2018/FINALDATA/TrainPNG/C.20030503.png\n",
      "/Users/kavisht/Documents/ScienceStuff/ScienceFair2018/FINALDATA/TrainPNG/C.20030926.png\n",
      "/Users/kavisht/Documents/ScienceStuff/ScienceFair2018/FINALDATA/TrainPNG/C.20030113.png\n",
      "/Users/kavisht/Documents/ScienceStuff/ScienceFair2018/FINALDATA/TrainPNG/C.20030313.png\n",
      "/Users/kavisht/Documents/ScienceStuff/ScienceFair2018/FINALDATA/TrainPNG/C.20100213.png\n",
      "/Users/kavisht/Documents/ScienceStuff/ScienceFair2018/FINALDATA/TrainPNG/C.20050430.png\n",
      "/Users/kavisht/Documents/ScienceStuff/ScienceFair2018/FINALDATA/TrainPNG/C.20040409.png\n",
      "/Users/kavisht/Documents/ScienceStuff/ScienceFair2018/FINALDATA/TrainPNG/C.20040421.png\n",
      "/Users/kavisht/Documents/ScienceStuff/ScienceFair2018/FINALDATA/TrainPNG/C.20030703.png\n",
      "/Users/kavisht/Documents/ScienceStuff/ScienceFair2018/FINALDATA/TrainPNG/C.20030918.png\n",
      "/Users/kavisht/Documents/ScienceStuff/ScienceFair2018/FINALDATA/TrainPNG/C.20030716.png\n"
     ]
    },
    {
     "name": "stdout",
     "output_type": "stream",
     "text": [
      "/Users/kavisht/Documents/ScienceStuff/ScienceFair2018/FINALDATA/TrainPNG/C.20061217.png\n",
      "/Users/kavisht/Documents/ScienceStuff/ScienceFair2018/FINALDATA/TrainPNG/C.20030104.png\n",
      "/Users/kavisht/Documents/ScienceStuff/ScienceFair2018/FINALDATA/TrainPNG/C.20030407.png\n",
      "/Users/kavisht/Documents/ScienceStuff/ScienceFair2018/FINALDATA/TrainPNG/C.20061106.png\n",
      "/Users/kavisht/Documents/ScienceStuff/ScienceFair2018/FINALDATA/TrainPNG/C.20091222.png\n",
      "/Users/kavisht/Documents/ScienceStuff/ScienceFair2018/FINALDATA/TrainPNG/C.20030605.png\n",
      "/Users/kavisht/Documents/ScienceStuff/ScienceFair2018/FINALDATA/TrainPNG/C.20030822.png\n",
      "/Users/kavisht/Documents/ScienceStuff/ScienceFair2018/FINALDATA/TrainPNG/C.20060422.png\n",
      "/Users/kavisht/Documents/ScienceStuff/ScienceFair2018/FINALDATA/TrainPNG/C.20031123.png\n",
      "/Users/kavisht/Documents/ScienceStuff/ScienceFair2018/FINALDATA/TrainPNG/C.20040730.png\n",
      "/Users/kavisht/Documents/ScienceStuff/ScienceFair2018/FINALDATA/TrainPNG/C.20061113.png\n",
      "/Users/kavisht/Documents/ScienceStuff/ScienceFair2018/FINALDATA/TrainPNG/C.20051005.png\n",
      "/Users/kavisht/Documents/ScienceStuff/ScienceFair2018/FINALDATA/TrainPNG/C.20041028.png\n",
      "/Users/kavisht/Documents/ScienceStuff/ScienceFair2018/FINALDATA/TrainPNG/C.20040322.png\n",
      "/Users/kavisht/Documents/ScienceStuff/ScienceFair2018/FINALDATA/TrainPNG/C.20041014.png\n",
      "/Users/kavisht/Documents/ScienceStuff/ScienceFair2018/FINALDATA/TrainPNG/C.20050904.png\n",
      "/Users/kavisht/Documents/ScienceStuff/ScienceFair2018/FINALDATA/TrainPNG/C.20040530.png\n",
      "/Users/kavisht/Documents/ScienceStuff/ScienceFair2018/FINALDATA/TrainPNG/C.20090705.png\n",
      "/Users/kavisht/Documents/ScienceStuff/ScienceFair2018/FINALDATA/TrainPNG/C.20050508.png\n",
      "/Users/kavisht/Documents/ScienceStuff/ScienceFair2018/FINALDATA/TrainPNG/C.20030217.png\n",
      "/Users/kavisht/Documents/ScienceStuff/ScienceFair2018/FINALDATA/TrainPNG/C.20030203.png\n",
      "/Users/kavisht/Documents/ScienceStuff/ScienceFair2018/FINALDATA/TrainPNG/C.20060811.png\n",
      "/Users/kavisht/Documents/ScienceStuff/ScienceFair2018/FINALDATA/TrainPNG/C.20040531.png\n",
      "/Users/kavisht/Documents/ScienceStuff/ScienceFair2018/FINALDATA/TrainPNG/C.20040323.png\n",
      "/Users/kavisht/Documents/ScienceStuff/ScienceFair2018/FINALDATA/TrainPNG/C.20041029.png\n",
      "/Users/kavisht/Documents/ScienceStuff/ScienceFair2018/FINALDATA/TrainPNG/C.20040121.png\n",
      "/Users/kavisht/Documents/ScienceStuff/ScienceFair2018/FINALDATA/TrainPNG/C.20030411.png\n",
      "/Users/kavisht/Documents/ScienceStuff/ScienceFair2018/FINALDATA/TrainPNG/C.20040131.png\n",
      "/Users/kavisht/Documents/ScienceStuff/ScienceFair2018/FINALDATA/TrainPNG/C.20091026.png\n",
      "/Users/kavisht/Documents/ScienceStuff/ScienceFair2018/FINALDATA/TrainPNG/C.20051216.png\n",
      "/Users/kavisht/Documents/ScienceStuff/ScienceFair2018/FINALDATA/TrainPNG/C.20060829.png\n",
      "/Users/kavisht/Documents/ScienceStuff/ScienceFair2018/FINALDATA/TrainPNG/C.20031125.png\n",
      "/Users/kavisht/Documents/ScienceStuff/ScienceFair2018/FINALDATA/TrainPNG/C.20040910.png\n",
      "/Users/kavisht/Documents/ScienceStuff/ScienceFair2018/FINALDATA/TrainPNG/C.20101031.png\n",
      "/Users/kavisht/Documents/ScienceStuff/ScienceFair2018/FINALDATA/TrainPNG/C.20030212.png\n",
      "/Users/kavisht/Documents/ScienceStuff/ScienceFair2018/FINALDATA/TrainPNG/C.20040911.png\n",
      "/Users/kavisht/Documents/ScienceStuff/ScienceFair2018/FINALDATA/TrainPNG/C.20031130.png\n",
      "/Users/kavisht/Documents/ScienceStuff/ScienceFair2018/FINALDATA/TrainPNG/C.20041004.png\n",
      "/Users/kavisht/Documents/ScienceStuff/ScienceFair2018/FINALDATA/TrainPNG/C.20051203.png\n",
      "/Users/kavisht/Documents/ScienceStuff/ScienceFair2018/FINALDATA/TrainPNG/C.20030428.png\n",
      "/Users/kavisht/Documents/ScienceStuff/ScienceFair2018/FINALDATA/TrainPNG/C.20030402.png\n",
      "/Users/kavisht/Documents/ScienceStuff/ScienceFair2018/FINALDATA/TrainPNG/C.20051201.png\n",
      "/Users/kavisht/Documents/ScienceStuff/ScienceFair2018/FINALDATA/TrainPNG/C.20100714.png\n",
      "/Users/kavisht/Documents/ScienceStuff/ScienceFair2018/FINALDATA/TrainPNG/C.20040522.png\n",
      "/Users/kavisht/Documents/ScienceStuff/ScienceFair2018/FINALDATA/TrainPNG/C.20100112.png\n",
      "/Users/kavisht/Documents/ScienceStuff/ScienceFair2018/FINALDATA/TrainPNG/C.20100304.png\n",
      "/Users/kavisht/Documents/ScienceStuff/ScienceFair2018/FINALDATA/TrainPNG/C.20040721.png\n",
      "/Users/kavisht/Documents/ScienceStuff/ScienceFair2018/FINALDATA/TrainPNG/C.20070806.png\n",
      "/Users/kavisht/Documents/ScienceStuff/ScienceFair2018/FINALDATA/TrainPNG/C.20050320.png\n",
      "/Users/kavisht/Documents/ScienceStuff/ScienceFair2018/FINALDATA/TrainPNG/C.20030403.png\n",
      "Loading M files (Index: 2)\n",
      "Trainpath /Users/kavisht/Documents/ScienceStuff/ScienceFair2018/FINALDATA/TrainPNG\n",
      "/Users/kavisht/Documents/ScienceStuff/ScienceFair2018/FINALDATA/TrainPNG/M*g\n",
      "/Users/kavisht/Documents/ScienceStuff/ScienceFair2018/FINALDATA/TrainPNG/M.20051114.png\n",
      "/Users/kavisht/Documents/ScienceStuff/ScienceFair2018/FINALDATA/TrainPNG/M.20031025.png\n",
      "/Users/kavisht/Documents/ScienceStuff/ScienceFair2018/FINALDATA/TrainPNG/M.20031031.png\n",
      "/Users/kavisht/Documents/ScienceStuff/ScienceFair2018/FINALDATA/TrainPNG/M.20050801.png\n",
      "/Users/kavisht/Documents/ScienceStuff/ScienceFair2018/FINALDATA/TrainPNG/M.20031030.png\n",
      "/Users/kavisht/Documents/ScienceStuff/ScienceFair2018/FINALDATA/TrainPNG/M.20031024.png\n",
      "/Users/kavisht/Documents/ScienceStuff/ScienceFair2018/FINALDATA/TrainPNG/M.20100206.png\n",
      "/Users/kavisht/Documents/ScienceStuff/ScienceFair2018/FINALDATA/TrainPNG/M.20100212.png\n",
      "/Users/kavisht/Documents/ScienceStuff/ScienceFair2018/FINALDATA/TrainPNG/M.20051115.png\n",
      "/Users/kavisht/Documents/ScienceStuff/ScienceFair2018/FINALDATA/TrainPNG/M.20041104.png\n",
      "/Users/kavisht/Documents/ScienceStuff/ScienceFair2018/FINALDATA/TrainPNG/M.20030502.png\n",
      "/Users/kavisht/Documents/ScienceStuff/ScienceFair2018/FINALDATA/TrainPNG/M.20050802.png\n",
      "/Users/kavisht/Documents/ScienceStuff/ScienceFair2018/FINALDATA/TrainPNG/M.20030107.png\n",
      "/Users/kavisht/Documents/ScienceStuff/ScienceFair2018/FINALDATA/TrainPNG/M.20031027.png\n",
      "/Users/kavisht/Documents/ScienceStuff/ScienceFair2018/FINALDATA/TrainPNG/M.20040817.png\n",
      "/Users/kavisht/Documents/ScienceStuff/ScienceFair2018/FINALDATA/TrainPNG/M.20050219.png\n",
      "/Users/kavisht/Documents/ScienceStuff/ScienceFair2018/FINALDATA/TrainPNG/M.20051113.png\n",
      "/Users/kavisht/Documents/ScienceStuff/ScienceFair2018/FINALDATA/TrainPNG/M.20040208.png\n",
      "/Users/kavisht/Documents/ScienceStuff/ScienceFair2018/FINALDATA/TrainPNG/M.20061207.png\n",
      "/Users/kavisht/Documents/ScienceStuff/ScienceFair2018/FINALDATA/TrainPNG/M.20031020.png\n",
      "/Users/kavisht/Documents/ScienceStuff/ScienceFair2018/FINALDATA/TrainPNG/M.20040815.png\n",
      "/Users/kavisht/Documents/ScienceStuff/ScienceFair2018/FINALDATA/TrainPNG/M.20050731.png\n",
      "/Users/kavisht/Documents/ScienceStuff/ScienceFair2018/FINALDATA/TrainPNG/M.20050527.png\n",
      "/Users/kavisht/Documents/ScienceStuff/ScienceFair2018/FINALDATA/TrainPNG/M.20040318.png\n",
      "/Users/kavisht/Documents/ScienceStuff/ScienceFair2018/FINALDATA/TrainPNG/M.20030614.png\n",
      "/Users/kavisht/Documents/ScienceStuff/ScienceFair2018/FINALDATA/TrainPNG/M.20040325.png\n",
      "/Users/kavisht/Documents/ScienceStuff/ScienceFair2018/FINALDATA/TrainPNG/M.20070609.png\n",
      "/Users/kavisht/Documents/ScienceStuff/ScienceFair2018/FINALDATA/TrainPNG/M.20050917.png\n",
      "/Users/kavisht/Documents/ScienceStuff/ScienceFair2018/FINALDATA/TrainPNG/M.20040723.png\n",
      "/Users/kavisht/Documents/ScienceStuff/ScienceFair2018/FINALDATA/TrainPNG/M.20030429.png\n",
      "/Users/kavisht/Documents/ScienceStuff/ScienceFair2018/FINALDATA/TrainPNG/M.20051202.png\n",
      "/Users/kavisht/Documents/ScienceStuff/ScienceFair2018/FINALDATA/TrainPNG/M.20030617.png\n",
      "/Users/kavisht/Documents/ScienceStuff/ScienceFair2018/FINALDATA/TrainPNG/M.20030602.png\n",
      "/Users/kavisht/Documents/ScienceStuff/ScienceFair2018/FINALDATA/TrainPNG/M.20050109.png\n",
      "/Users/kavisht/Documents/ScienceStuff/ScienceFair2018/FINALDATA/TrainPNG/M.20030819.png\n",
      "/Users/kavisht/Documents/ScienceStuff/ScienceFair2018/FINALDATA/TrainPNG/M.20050121.png\n",
      "/Users/kavisht/Documents/ScienceStuff/ScienceFair2018/FINALDATA/TrainPNG/M.20040118.png\n",
      "/Users/kavisht/Documents/ScienceStuff/ScienceFair2018/FINALDATA/TrainPNG/M.20031118.png\n",
      "/Users/kavisht/Documents/ScienceStuff/ScienceFair2018/FINALDATA/TrainPNG/M.20030206.png\n",
      "/Users/kavisht/Documents/ScienceStuff/ScienceFair2018/FINALDATA/TrainPNG/M.20040722.png\n",
      "/Users/kavisht/Documents/ScienceStuff/ScienceFair2018/FINALDATA/TrainPNG/M.20050914.png\n",
      "/Users/kavisht/Documents/ScienceStuff/ScienceFair2018/FINALDATA/TrainPNG/M.20050727.png\n"
     ]
    },
    {
     "name": "stdout",
     "output_type": "stream",
     "text": [
      "/Users/kavisht/Documents/ScienceStuff/ScienceFair2018/FINALDATA/TrainPNG/M.20040726.png\n",
      "/Users/kavisht/Documents/ScienceStuff/ScienceFair2018/FINALDATA/TrainPNG/M.20031120.png\n",
      "/Users/kavisht/Documents/ScienceStuff/ScienceFair2018/FINALDATA/TrainPNG/M.20041202.png\n",
      "/Users/kavisht/Documents/ScienceStuff/ScienceFair2018/FINALDATA/TrainPNG/M.20040120.png\n",
      "/Users/kavisht/Documents/ScienceStuff/ScienceFair2018/FINALDATA/TrainPNG/M.20030612.png\n",
      "/Users/kavisht/Documents/ScienceStuff/ScienceFair2018/FINALDATA/TrainPNG/M.20030613.png\n",
      "/Users/kavisht/Documents/ScienceStuff/ScienceFair2018/FINALDATA/TrainPNG/M.20040109.png\n",
      "/Users/kavisht/Documents/ScienceStuff/ScienceFair2018/FINALDATA/TrainPNG/M.20040914.png\n",
      "/Users/kavisht/Documents/ScienceStuff/ScienceFair2018/FINALDATA/TrainPNG/M.20040727.png\n",
      "/Users/kavisht/Documents/ScienceStuff/ScienceFair2018/FINALDATA/TrainPNG/M.20050911.png\n",
      "/Users/kavisht/Documents/ScienceStuff/ScienceFair2018/FINALDATA/TrainPNG/M.20030201.png\n",
      "/Users/kavisht/Documents/ScienceStuff/ScienceFair2018/FINALDATA/TrainPNG/M.20041201.png\n",
      "/Users/kavisht/Documents/ScienceStuff/ScienceFair2018/FINALDATA/TrainPNG/M.20041229.png\n",
      "/Users/kavisht/Documents/ScienceStuff/ScienceFair2018/FINALDATA/TrainPNG/M.20030214.png\n",
      "/Users/kavisht/Documents/ScienceStuff/ScienceFair2018/FINALDATA/TrainPNG/M.20040724.png\n",
      "/Users/kavisht/Documents/ScienceStuff/ScienceFair2018/FINALDATA/TrainPNG/M.20050912.png\n",
      "/Users/kavisht/Documents/ScienceStuff/ScienceFair2018/FINALDATA/TrainPNG/M.20050906.png\n",
      "/Users/kavisht/Documents/ScienceStuff/ScienceFair2018/FINALDATA/TrainPNG/M.20050709.png\n",
      "/Users/kavisht/Documents/ScienceStuff/ScienceFair2018/FINALDATA/TrainPNG/M.20050506.png\n",
      "/Users/kavisht/Documents/ScienceStuff/ScienceFair2018/FINALDATA/TrainPNG/M.20050512.png\n",
      "/Users/kavisht/Documents/ScienceStuff/ScienceFair2018/FINALDATA/TrainPNG/M.20031113.png\n",
      "/Users/kavisht/Documents/ScienceStuff/ScienceFair2018/FINALDATA/TrainPNG/M.20040107.png\n",
      "/Users/kavisht/Documents/ScienceStuff/ScienceFair2018/FINALDATA/TrainPNG/M.20041231.png\n",
      "/Users/kavisht/Documents/ScienceStuff/ScienceFair2018/FINALDATA/TrainPNG/M.20030423.png\n",
      "/Users/kavisht/Documents/ScienceStuff/ScienceFair2018/FINALDATA/TrainPNG/M.20050513.png\n",
      "/Users/kavisht/Documents/ScienceStuff/ScienceFair2018/FINALDATA/TrainPNG/M.20050707.png\n",
      "/Users/kavisht/Documents/ScienceStuff/ScienceFair2018/FINALDATA/TrainPNG/M.20050511.png\n",
      "/Users/kavisht/Documents/ScienceStuff/ScienceFair2018/FINALDATA/TrainPNG/M.20070602.png\n",
      "/Users/kavisht/Documents/ScienceStuff/ScienceFair2018/FINALDATA/TrainPNG/M.20040306.png\n",
      "/Users/kavisht/Documents/ScienceStuff/ScienceFair2018/FINALDATA/TrainPNG/M.20041024.png\n",
      "/Users/kavisht/Documents/ScienceStuff/ScienceFair2018/FINALDATA/TrainPNG/M.20030805.png\n",
      "/Users/kavisht/Documents/ScienceStuff/ScienceFair2018/FINALDATA/TrainPNG/M.20041031.png\n",
      "/Users/kavisht/Documents/ScienceStuff/ScienceFair2018/FINALDATA/TrainPNG/M.20050114.png\n",
      "/Users/kavisht/Documents/ScienceStuff/ScienceFair2018/FINALDATA/TrainPNG/M.20030421.png\n",
      "/Users/kavisht/Documents/ScienceStuff/ScienceFair2018/FINALDATA/TrainPNG/M.20040105.png\n",
      "/Users/kavisht/Documents/ScienceStuff/ScienceFair2018/FINALDATA/TrainPNG/M.20031111.png\n",
      "/Users/kavisht/Documents/ScienceStuff/ScienceFair2018/FINALDATA/TrainPNG/M.20070603.png\n",
      "/Users/kavisht/Documents/ScienceStuff/ScienceFair2018/FINALDATA/TrainPNG/M.20050510.png\n",
      "/Users/kavisht/Documents/ScienceStuff/ScienceFair2018/FINALDATA/TrainPNG/M.20100119.png\n",
      "/Users/kavisht/Documents/ScienceStuff/ScienceFair2018/FINALDATA/TrainPNG/M.20050712.png\n",
      "/Users/kavisht/Documents/ScienceStuff/ScienceFair2018/FINALDATA/TrainPNG/M.20050716.png\n",
      "/Users/kavisht/Documents/ScienceStuff/ScienceFair2018/FINALDATA/TrainPNG/M.20040713.png\n",
      "/Users/kavisht/Documents/ScienceStuff/ScienceFair2018/FINALDATA/TrainPNG/M.20031101.png\n",
      "/Users/kavisht/Documents/ScienceStuff/ScienceFair2018/FINALDATA/TrainPNG/M.20080325.png\n",
      "/Users/kavisht/Documents/ScienceStuff/ScienceFair2018/FINALDATA/TrainPNG/M.20030425.png\n",
      "/Users/kavisht/Documents/ScienceStuff/ScienceFair2018/FINALDATA/TrainPNG/M.20041020.png\n",
      "/Users/kavisht/Documents/ScienceStuff/ScienceFair2018/FINALDATA/TrainPNG/M.20100120.png\n",
      "/Users/kavisht/Documents/ScienceStuff/ScienceFair2018/FINALDATA/TrainPNG/M.20101016.png\n",
      "/Users/kavisht/Documents/ScienceStuff/ScienceFair2018/FINALDATA/TrainPNG/M.20050517.png\n",
      "/Users/kavisht/Documents/ScienceStuff/ScienceFair2018/FINALDATA/TrainPNG/M.20070604.png\n",
      "/Users/kavisht/Documents/ScienceStuff/ScienceFair2018/FINALDATA/TrainPNG/M.20030802.png\n",
      "/Users/kavisht/Documents/ScienceStuff/ScienceFair2018/FINALDATA/TrainPNG/M.20030427.png\n",
      "/Users/kavisht/Documents/ScienceStuff/ScienceFair2018/FINALDATA/TrainPNG/M.20050516.png\n",
      "/Users/kavisht/Documents/ScienceStuff/ScienceFair2018/FINALDATA/TrainPNG/M.20050728.png\n",
      "/Users/kavisht/Documents/ScienceStuff/ScienceFair2018/FINALDATA/TrainPNG/M.20101104.png\n",
      "/Users/kavisht/Documents/ScienceStuff/ScienceFair2018/FINALDATA/TrainPNG/M.20031004.png\n",
      "/Users/kavisht/Documents/ScienceStuff/ScienceFair2018/FINALDATA/TrainPNG/M.20040831.png\n",
      "/Users/kavisht/Documents/ScienceStuff/ScienceFair2018/FINALDATA/TrainPNG/M.20031206.png\n",
      "/Users/kavisht/Documents/ScienceStuff/ScienceFair2018/FINALDATA/TrainPNG/M.20060706.png\n",
      "/Users/kavisht/Documents/ScienceStuff/ScienceFair2018/FINALDATA/TrainPNG/M.20040415.png\n",
      "/Users/kavisht/Documents/ScienceStuff/ScienceFair2018/FINALDATA/TrainPNG/M.20030319.png\n",
      "/Users/kavisht/Documents/ScienceStuff/ScienceFair2018/FINALDATA/TrainPNG/M.20050823.png\n",
      "/Users/kavisht/Documents/ScienceStuff/ScienceFair2018/FINALDATA/TrainPNG/M.20101106.png\n",
      "/Users/kavisht/Documents/ScienceStuff/ScienceFair2018/FINALDATA/TrainPNG/M.20030730.png\n",
      "/Users/kavisht/Documents/ScienceStuff/ScienceFair2018/FINALDATA/TrainPNG/M.20100208.png\n",
      "/Users/kavisht/Documents/ScienceStuff/ScienceFair2018/FINALDATA/TrainPNG/M.20030320.png\n",
      "/Users/kavisht/Documents/ScienceStuff/ScienceFair2018/FINALDATA/TrainPNG/M.20050601.png\n",
      "/Users/kavisht/Documents/ScienceStuff/ScienceFair2018/FINALDATA/TrainPNG/M.20030122.png\n",
      "/Users/kavisht/Documents/ScienceStuff/ScienceFair2018/FINALDATA/TrainPNG/M.20030123.png\n",
      "/Users/kavisht/Documents/ScienceStuff/ScienceFair2018/FINALDATA/TrainPNG/M.20030916.png\n",
      "/Users/kavisht/Documents/ScienceStuff/ScienceFair2018/FINALDATA/TrainPNG/M.20041109.png\n",
      "/Users/kavisht/Documents/ScienceStuff/ScienceFair2018/FINALDATA/TrainPNG/M.20051130.png\n",
      "/Users/kavisht/Documents/ScienceStuff/ScienceFair2018/FINALDATA/TrainPNG/M.20051118.png\n",
      "/Users/kavisht/Documents/ScienceStuff/ScienceFair2018/FINALDATA/TrainPNG/M.20030531.png\n",
      "/Users/kavisht/Documents/ScienceStuff/ScienceFair2018/FINALDATA/TrainPNG/M.20050616.png\n",
      "/Users/kavisht/Documents/ScienceStuff/ScienceFair2018/FINALDATA/TrainPNG/M.20050825.png\n",
      "/Users/kavisht/Documents/ScienceStuff/ScienceFair2018/FINALDATA/TrainPNG/M.20030121.png\n",
      "/Users/kavisht/Documents/ScienceStuff/ScienceFair2018/FINALDATA/TrainPNG/M.20031202.png\n",
      "/Users/kavisht/Documents/ScienceStuff/ScienceFair2018/FINALDATA/TrainPNG/M.20050603.png\n",
      "/Users/kavisht/Documents/ScienceStuff/ScienceFair2018/FINALDATA/TrainPNG/M.20041108.png\n",
      "Loading X files (Index: 3)\n",
      "Trainpath /Users/kavisht/Documents/ScienceStuff/ScienceFair2018/FINALDATA/TrainPNG\n",
      "/Users/kavisht/Documents/ScienceStuff/ScienceFair2018/FINALDATA/TrainPNG/X*g\n",
      "/Users/kavisht/Documents/ScienceStuff/ScienceFair2018/FINALDATA/TrainPNG/X.20050119.png\n",
      "/Users/kavisht/Documents/ScienceStuff/ScienceFair2018/FINALDATA/TrainPNG/X.20030610.png\n",
      "/Users/kavisht/Documents/ScienceStuff/ScienceFair2018/FINALDATA/TrainPNG/X.20050907.png\n",
      "/Users/kavisht/Documents/ScienceStuff/ScienceFair2018/FINALDATA/TrainPNG/X.20050730.png\n",
      "/Users/kavisht/Documents/ScienceStuff/ScienceFair2018/FINALDATA/TrainPNG/X.20050120.png\n",
      "/Users/kavisht/Documents/ScienceStuff/ScienceFair2018/FINALDATA/TrainPNG/X.20050915.png\n",
      "/Users/kavisht/Documents/ScienceStuff/ScienceFair2018/FINALDATA/TrainPNG/X.20031023.png\n",
      "/Users/kavisht/Documents/ScienceStuff/ScienceFair2018/FINALDATA/TrainPNG/X.20061206.png\n",
      "/Users/kavisht/Documents/ScienceStuff/ScienceFair2018/FINALDATA/TrainPNG/X.20030317.png\n",
      "/Users/kavisht/Documents/ScienceStuff/ScienceFair2018/FINALDATA/TrainPNG/X.20061213.png\n",
      "/Users/kavisht/Documents/ScienceStuff/ScienceFair2018/FINALDATA/TrainPNG/X.20041110.png\n",
      "/Users/kavisht/Documents/ScienceStuff/ScienceFair2018/FINALDATA/TrainPNG/X.20040226.png\n",
      "/Users/kavisht/Documents/ScienceStuff/ScienceFair2018/FINALDATA/TrainPNG/X.20030529.png\n",
      "/Users/kavisht/Documents/ScienceStuff/ScienceFair2018/FINALDATA/TrainPNG/X.20041107.png\n",
      "/Users/kavisht/Documents/ScienceStuff/ScienceFair2018/FINALDATA/TrainPNG/X.20031026.png\n",
      "/Users/kavisht/Documents/ScienceStuff/ScienceFair2018/FINALDATA/TrainPNG/X.20040813.png\n",
      "/Users/kavisht/Documents/ScienceStuff/ScienceFair2018/FINALDATA/TrainPNG/X.20030527.png\n",
      "/Users/kavisht/Documents/ScienceStuff/ScienceFair2018/FINALDATA/TrainPNG/X.20031028.png\n"
     ]
    },
    {
     "name": "stdout",
     "output_type": "stream",
     "text": [
      "/Users/kavisht/Documents/ScienceStuff/ScienceFair2018/FINALDATA/TrainPNG/X.20031029.png\n",
      "/Users/kavisht/Documents/ScienceStuff/ScienceFair2018/FINALDATA/TrainPNG/X.20050714.png\n",
      "/Users/kavisht/Documents/ScienceStuff/ScienceFair2018/FINALDATA/TrainPNG/X.20050117.png\n",
      "/Users/kavisht/Documents/ScienceStuff/ScienceFair2018/FINALDATA/TrainPNG/X.20030609.png\n",
      "/Users/kavisht/Documents/ScienceStuff/ScienceFair2018/FINALDATA/TrainPNG/X.20040715.png\n",
      "/Users/kavisht/Documents/ScienceStuff/ScienceFair2018/FINALDATA/TrainPNG/X.20040717.png\n",
      "/Users/kavisht/Documents/ScienceStuff/ScienceFair2018/FINALDATA/TrainPNG/X.20050115.png\n",
      "/Users/kavisht/Documents/ScienceStuff/ScienceFair2018/FINALDATA/TrainPNG/X.20050908.png\n",
      "/Users/kavisht/Documents/ScienceStuff/ScienceFair2018/FINALDATA/TrainPNG/X.20031104.png\n",
      "/Users/kavisht/Documents/ScienceStuff/ScienceFair2018/FINALDATA/TrainPNG/X.20040716.png\n",
      "483\n",
      "Reading test images\n"
     ]
    }
   ],
   "source": [
    "data = dataset11.read_train_sets(train_path, img_size, classes, validation_size=validation_size)\n",
    "test_images, test_ids = dataset11.read_test_set(test_path, img_size)\n",
    "#print(data.train.labels)"
   ]
  },
  {
   "cell_type": "code",
   "execution_count": 49,
   "metadata": {},
   "outputs": [
    {
     "name": "stdout",
     "output_type": "stream",
     "text": [
      "Size of:\n",
      "- Training-set:\t\t419\n",
      "- Test-set:\t\t565\n",
      "- Validation-set:\t64\n",
      "- data.valid.images-length:\t64\n"
     ]
    }
   ],
   "source": [
    "print(\"Size of:\")\n",
    "print(\"- Training-set:\\t\\t{}\".format(len(data.train.labels)))\n",
    "print(\"- Test-set:\\t\\t{}\".format(len(test_images)))\n",
    "print(\"- Validation-set:\\t{}\".format(len(data.valid.labels)))\n",
    "print(\"- data.valid.images-length:\\t{}\".format(len(data.valid.images)))"
   ]
  },
  {
   "cell_type": "code",
   "execution_count": 50,
   "metadata": {},
   "outputs": [],
   "source": [
    "def plot_images(images, cls_true, cls_pred=None):\n",
    "    \n",
    "    if len(images) == 0:\n",
    "        print(\"no images to show\")\n",
    "        return \n",
    "    else:\n",
    "        random_indices = random.sample(range(len(images)), min(len(images), 9))\n",
    "        \n",
    "        \n",
    "    images, cls_true  = zip(*[(images[i], cls_true[i]) for i in random_indices])\n",
    "    \n",
    "    # Create figure with 3x3 sub-plots.\n",
    "    fig, axes = plt.subplots(3, 3)\n",
    "    fig.subplots_adjust(hspace=0.3, wspace=0.3)\n",
    "\n",
    "    for i, ax in enumerate(axes.flat):\n",
    "        # Plot image.\n",
    "        #ax.imshow(images[i].reshape(img_size, img_size, num_channels))\n",
    "        ax.imshow(images[i].reshape(img_size, img_size, num_channels).squeeze())\n",
    "        #change by Ionut Georgescu 12.23.2018\n",
    "        # Show true and predicted classes.\n",
    "        if cls_pred is None:\n",
    "            xlabel = \"True: {0}\".format(cls_true[i])\n",
    "        else:\n",
    "            xlabel = \"True: {0}, Pred: {1}\".format(cls_true[i], cls_pred[i])\n",
    "\n",
    "        # Show the classes as the label on the x-axis.\n",
    "        ax.set_xlabel(xlabel)\n",
    "        \n",
    "        # Remove ticks from the plot.\n",
    "        ax.set_xticks([])\n",
    "        ax.set_yticks([])\n",
    "    \n",
    "    # Ensure the plot is shown correctly with multiple plots\n",
    "    # in a single Notebook cell.\n",
    "    plt.show()"
   ]
  },
  {
   "cell_type": "code",
   "execution_count": 51,
   "metadata": {},
   "outputs": [
    {
     "data": {
      "image/png": "[encoded data removed]",
      "text/plain": [
       "<matplotlib.figure.Figure at 0x145e07208>"
      ]
     },
     "metadata": {},
     "output_type": "display_data"
    }
   ],
   "source": [
    "# Get some random images and their labels from the train set.\n",
    "\n",
    "images, cls_true  = data.train.images, data.train.cls\n",
    "\n",
    "# Plot the images and labels using our helper-function above.\n",
    "plot_images(images=images, cls_true=cls_true)"
   ]
  },
  {
   "cell_type": "code",
   "execution_count": 52,
   "metadata": {},
   "outputs": [],
   "source": [
    "def new_weights(shape):\n",
    "    return tf.Variable(tf.truncated_normal(shape, stddev=0.05))"
   ]
  },
  {
   "cell_type": "code",
   "execution_count": 53,
   "metadata": {},
   "outputs": [],
   "source": [
    "def new_biases(length):\n",
    "    return tf.Variable(tf.constant(0.05, shape=[length]))"
   ]
  },
  {
   "cell_type": "code",
   "execution_count": 54,
   "metadata": {},
   "outputs": [],
   "source": [
    "def new_conv_layer(input,              # The previous layer.\n",
    "                   num_input_channels, # Num. channels in prev. layer.\n",
    "                   filter_size,        # Width and height of each filter.\n",
    "                   num_filters,        # Number of filters.\n",
    "                   use_pooling=True):  # Use 2x2 max-pooling.\n",
    "\n",
    "    # Shape of the filter-weights for the convolution.\n",
    "    # This format is determined by the TensorFlow API.\n",
    "    shape = [filter_size, filter_size, num_input_channels, num_filters]\n",
    "\n",
    "    # Create new weights aka. filters with the given shape.\n",
    "    weights = new_weights(shape=shape)\n",
    "\n",
    "    # Create new biases, one for each filter.\n",
    "    biases = new_biases(length=num_filters)\n",
    "\n",
    "    # Create the TensorFlow operation for convolution.\n",
    "    # Note the strides are set to 1 in all dimensions.\n",
    "    # The first and last stride must always be 1,\n",
    "    # because the first is for the image-number and\n",
    "    # the last is for the input-channel.\n",
    "    # But e.g. strides=[1, 2, 2, 1] would mean that the filter\n",
    "    # is moved 2 pixels across the x- and y-axis of the image.\n",
    "    # The padding is set to 'SAME' which means the input image\n",
    "    # is padded with zeroes so the size of the output is the same.\n",
    "    layer = tf.nn.conv2d(input=input,\n",
    "                         filter=weights,\n",
    "                         strides=[1, 1, 1, 1],\n",
    "                         padding='SAME')\n",
    "\n",
    "    # Add the biases to the results of the convolution.\n",
    "    # A bias-value is added to each filter-channel.\n",
    "    layer += biases\n",
    "\n",
    "    # Use pooling to down-sample the image resolution?\n",
    "    if use_pooling:\n",
    "        # This is 2x2 max-pooling, which means that we\n",
    "        # consider 2x2 windows and select the largest value\n",
    "        # in each window. Then we move 2 pixels to the next window.\n",
    "        layer = tf.nn.max_pool(value=layer,\n",
    "                               ksize=[1, 2, 2, 1],\n",
    "                               strides=[1, 2, 2, 1],\n",
    "                               padding='SAME')\n",
    "\n",
    "    # Rectified Linear Unit (ReLU).\n",
    "    # It calculates max(x, 0) for each input pixel x.\n",
    "    # This adds some non-linearity to the formula and allows us\n",
    "    # to learn more complicated functions.\n",
    "    layer = tf.nn.relu(layer)\n",
    "\n",
    "    # Note that ReLU is normally executed before the pooling,\n",
    "    # but since relu(max_pool(x)) == max_pool(relu(x)) we can\n",
    "    # save 75% of the relu-operations by max-pooling first.\n",
    "\n",
    "    # We return both the resulting layer and the filter-weights\n",
    "    # because we will plot the weights later.\n",
    "    return layer, weights"
   ]
  },
  {
   "cell_type": "code",
   "execution_count": 55,
   "metadata": {},
   "outputs": [],
   "source": [
    "def flatten_layer(layer):\n",
    "    # Get the shape of the input layer.\n",
    "    layer_shape = layer.get_shape()\n",
    "\n",
    "    # The shape of the input layer is assumed to be:\n",
    "    # layer_shape == [num_images, img_height, img_width, num_channels]\n",
    "\n",
    "    # The number of features is: img_height * img_width * num_channels\n",
    "    # We can use a function from TensorFlow to calculate this.\n",
    "    num_features = layer_shape[1:4].num_elements()\n",
    "    \n",
    "    # Reshape the layer to [num_images, num_features].\n",
    "    # Note that we just set the size of the second dimension\n",
    "    # to num_features and the size of the first dimension to -1\n",
    "    # which means the size in that dimension is calculated\n",
    "    # so the total size of the tensor is unchanged from the reshaping.\n",
    "    layer_flat = tf.reshape(layer, [-1, num_features])\n",
    "\n",
    "    # The shape of the flattened layer is now:\n",
    "    # [num_images, img_height * img_width * num_channels]\n",
    "\n",
    "    # Return both the flattened layer and the number of features.\n",
    "    return layer_flat, num_features"
   ]
  },
  {
   "cell_type": "code",
   "execution_count": 56,
   "metadata": {},
   "outputs": [],
   "source": [
    "def new_fc_layer(input,          # The previous layer.\n",
    "                 num_inputs,     # Num. inputs from prev. layer.\n",
    "                 num_outputs,    # Num. outputs.\n",
    "                 use_relu=True): # Use Rectified Linear Unit (ReLU)?\n",
    "\n",
    "    # Create new weights and biases.\n",
    "    weights = new_weights(shape=[num_inputs, num_outputs])\n",
    "    biases = new_biases(length=num_outputs)\n",
    "\n",
    "    # Calculate the layer as the matrix multiplication of\n",
    "    # the input and weights, and then add the bias-values.\n",
    "    layer = tf.matmul(input, weights) + biases\n",
    "\n",
    "    # Use ReLU?\n",
    "    if use_relu:\n",
    "        layer = tf.nn.relu(layer)\n",
    "\n",
    "    return layer"
   ]
  },
  {
   "cell_type": "code",
   "execution_count": 57,
   "metadata": {},
   "outputs": [],
   "source": [
    "x = tf.placeholder(tf.float32, shape=[None, img_size_flat], name='x')"
   ]
  },
  {
   "cell_type": "code",
   "execution_count": 58,
   "metadata": {},
   "outputs": [],
   "source": [
    "x_image = tf.reshape(x, [-1, img_size, img_size, num_channels])"
   ]
  },
  {
   "cell_type": "code",
   "execution_count": 59,
   "metadata": {},
   "outputs": [],
   "source": [
    "y_true = tf.placeholder(tf.float32, shape=[None, num_classes], name='y_true')"
   ]
  },
  {
   "cell_type": "code",
   "execution_count": 60,
   "metadata": {},
   "outputs": [],
   "source": [
    "y_true_cls = tf.argmax(y_true, dimension=1)"
   ]
  },
  {
   "cell_type": "code",
   "execution_count": 61,
   "metadata": {},
   "outputs": [],
   "source": [
    "layer_conv1, weights_conv1 = \\\n",
    "    new_conv_layer(input=x_image,\n",
    "                   num_input_channels=num_channels,\n",
    "                   filter_size=filter_size1,\n",
    "                   num_filters=num_filters1,\n",
    "                   use_pooling=True)"
   ]
  },
  {
   "cell_type": "code",
   "execution_count": 62,
   "metadata": {},
   "outputs": [
    {
     "data": {
      "text/plain": [
       "<tf.Tensor 'Relu_4:0' shape=(?, 128, 128, 32) dtype=float32>"
      ]
     },
     "execution_count": 62,
     "metadata": {},
     "output_type": "execute_result"
    }
   ],
   "source": [
    "layer_conv1"
   ]
  },
  {
   "cell_type": "code",
   "execution_count": 63,
   "metadata": {},
   "outputs": [],
   "source": [
    "layer_conv2, weights_conv2 = \\\n",
    "    new_conv_layer(input=layer_conv1,\n",
    "                   num_input_channels=num_filters1,\n",
    "                   filter_size=filter_size2,\n",
    "                   num_filters=num_filters2,\n",
    "                   use_pooling=True)"
   ]
  },
  {
   "cell_type": "code",
   "execution_count": 64,
   "metadata": {},
   "outputs": [
    {
     "data": {
      "text/plain": [
       "<tf.Tensor 'Relu_5:0' shape=(?, 64, 64, 32) dtype=float32>"
      ]
     },
     "execution_count": 64,
     "metadata": {},
     "output_type": "execute_result"
    }
   ],
   "source": [
    "layer_conv2"
   ]
  },
  {
   "cell_type": "code",
   "execution_count": 65,
   "metadata": {},
   "outputs": [],
   "source": [
    "layer_conv3, weights_conv3 = \\\n",
    "    new_conv_layer(input=layer_conv2,\n",
    "                   num_input_channels=num_filters2,\n",
    "                   filter_size=filter_size3,\n",
    "                   num_filters=num_filters3,\n",
    "                   use_pooling=True)"
   ]
  },
  {
   "cell_type": "code",
   "execution_count": 66,
   "metadata": {},
   "outputs": [
    {
     "data": {
      "text/plain": [
       "<tf.Tensor 'Relu_6:0' shape=(?, 32, 32, 64) dtype=float32>"
      ]
     },
     "execution_count": 66,
     "metadata": {},
     "output_type": "execute_result"
    }
   ],
   "source": [
    "layer_conv3"
   ]
  },
  {
   "cell_type": "code",
   "execution_count": 67,
   "metadata": {},
   "outputs": [],
   "source": [
    "layer_flat, num_features = flatten_layer(layer_conv3)"
   ]
  },
  {
   "cell_type": "code",
   "execution_count": 68,
   "metadata": {},
   "outputs": [
    {
     "data": {
      "text/plain": [
       "<tf.Tensor 'Reshape_6:0' shape=(?, 65536) dtype=float32>"
      ]
     },
     "execution_count": 68,
     "metadata": {},
     "output_type": "execute_result"
    }
   ],
   "source": [
    "layer_flat"
   ]
  },
  {
   "cell_type": "code",
   "execution_count": 69,
   "metadata": {},
   "outputs": [
    {
     "data": {
      "text/plain": [
       "65536"
      ]
     },
     "execution_count": 69,
     "metadata": {},
     "output_type": "execute_result"
    }
   ],
   "source": [
    "num_features"
   ]
  },
  {
   "cell_type": "code",
   "execution_count": 70,
   "metadata": {},
   "outputs": [],
   "source": [
    "layer_fc1 = new_fc_layer(input=layer_flat,\n",
    "                         num_inputs=num_features,\n",
    "                         num_outputs=fc_size,\n",
    "                         use_relu=True)"
   ]
  },
  {
   "cell_type": "code",
   "execution_count": 71,
   "metadata": {},
   "outputs": [
    {
     "data": {
      "text/plain": [
       "<tf.Tensor 'Relu_7:0' shape=(?, 128) dtype=float32>"
      ]
     },
     "execution_count": 71,
     "metadata": {},
     "output_type": "execute_result"
    }
   ],
   "source": [
    "layer_fc1"
   ]
  },
  {
   "cell_type": "code",
   "execution_count": 72,
   "metadata": {},
   "outputs": [],
   "source": [
    "layer_fc2 = new_fc_layer(input=layer_fc1,\n",
    "                         num_inputs=fc_size,\n",
    "                         num_outputs=num_classes,\n",
    "                         use_relu=False)"
   ]
  },
  {
   "cell_type": "code",
   "execution_count": 73,
   "metadata": {},
   "outputs": [
    {
     "data": {
      "text/plain": [
       "<tf.Tensor 'add_9:0' shape=(?, 4) dtype=float32>"
      ]
     },
     "execution_count": 73,
     "metadata": {},
     "output_type": "execute_result"
    }
   ],
   "source": [
    "layer_fc2"
   ]
  },
  {
   "cell_type": "code",
   "execution_count": 74,
   "metadata": {},
   "outputs": [],
   "source": [
    "y_pred = tf.nn.softmax(layer_fc2)"
   ]
  },
  {
   "cell_type": "code",
   "execution_count": 75,
   "metadata": {},
   "outputs": [],
   "source": [
    "y_pred_cls = tf.argmax(y_pred, dimension=1)"
   ]
  },
  {
   "cell_type": "code",
   "execution_count": 76,
   "metadata": {},
   "outputs": [],
   "source": [
    "cross_entropy = tf.nn.softmax_cross_entropy_with_logits(logits=layer_fc2,\n",
    "                                                        labels=y_true)"
   ]
  },
  {
   "cell_type": "code",
   "execution_count": 77,
   "metadata": {},
   "outputs": [],
   "source": [
    "cost = tf.reduce_mean(cross_entropy)"
   ]
  },
  {
   "cell_type": "code",
   "execution_count": 78,
   "metadata": {},
   "outputs": [],
   "source": [
    "optimizer = tf.train.AdamOptimizer(learning_rate=1e-3).minimize(cost)"
   ]
  },
  {
   "cell_type": "code",
   "execution_count": 79,
   "metadata": {},
   "outputs": [],
   "source": [
    "correct_prediction = tf.equal(y_pred_cls, y_true_cls)"
   ]
  },
  {
   "cell_type": "code",
   "execution_count": 80,
   "metadata": {},
   "outputs": [],
   "source": [
    "accuracy = tf.reduce_mean(tf.cast(correct_prediction, tf.float32))"
   ]
  },
  {
   "cell_type": "code",
   "execution_count": 81,
   "metadata": {},
   "outputs": [],
   "source": [
    "session = tf.Session()"
   ]
  },
  {
   "cell_type": "code",
   "execution_count": 82,
   "metadata": {},
   "outputs": [],
   "source": [
    "session.run(tf.initialize_all_variables())"
   ]
  },
  {
   "cell_type": "code",
   "execution_count": 83,
   "metadata": {},
   "outputs": [],
   "source": [
    "train_batch_size = batch_size"
   ]
  },
  {
   "cell_type": "code",
   "execution_count": 84,
   "metadata": {},
   "outputs": [],
   "source": [
    "def print_progress(epoch, feed_dict_train, feed_dict_validate, val_loss):\n",
    "    # Calculate the accuracy on the training-set.\n",
    "    acc = session.run(accuracy, feed_dict=feed_dict_train)\n",
    "    val_acc = session.run(accuracy, feed_dict=feed_dict_validate)\n",
    "    msg = \"Epoch {0} --- Training Accuracy: {1:>6.1%}, Validation Accuracy: {2:>6.1%}, Validation Loss: {3:.3f}\"\n",
    "    print(msg.format(epoch + 1, acc, val_acc, val_loss))"
   ]
  },
  {
   "cell_type": "code",
   "execution_count": 85,
   "metadata": {},
   "outputs": [],
   "source": [
    "# Counter for total number of iterations performed so far.\n",
    "total_iterations = 0\n",
    "\n",
    "def optimize(num_iterations):\n",
    "    # Ensure we update the global variable rather than a local copy.\n",
    "    global total_iterations\n",
    "\n",
    "    # Start-time used for printing time-usage below.\n",
    "    start_time = time.time()\n",
    "    \n",
    "    best_val_loss = float(\"inf\")\n",
    "    patience = 0\n",
    "\n",
    "    for i in range(total_iterations,\n",
    "                   total_iterations + num_iterations):\n",
    "\n",
    "        # Get a batch of training examples.\n",
    "        # x_batch now holds a batch of images and\n",
    "        # y_true_batch are the true labels for those images.\n",
    "        x_batch, y_true_batch, _, cls_batch = data.train.next_batch(train_batch_size)\n",
    "        x_valid_batch, y_valid_batch, _, valid_cls_batch = data.valid.next_batch(train_batch_size)\n",
    "\n",
    "        # Convert shape from [num examples, rows, columns, depth]\n",
    "        # to [num examples, flattened image shape]\n",
    "\n",
    "        x_batch = x_batch.reshape(train_batch_size, img_size_flat)\n",
    "        x_valid_batch = x_valid_batch.reshape(train_batch_size, img_size_flat)\n",
    "\n",
    "        # Put the batch into a dict with the proper names\n",
    "        # for placeholder variables in the TensorFlow graph.\n",
    "        feed_dict_train = {x: x_batch,\n",
    "                           y_true: y_true_batch}\n",
    "        \n",
    "        feed_dict_validate = {x: x_valid_batch,\n",
    "                              y_true: y_valid_batch}\n",
    "\n",
    "        # Run the optimizer using this batch of training data.\n",
    "        # TensorFlow assigns the variables in feed_dict_train\n",
    "        # to the placeholder variables and then runs the optimizer.\n",
    "        session.run(optimizer, feed_dict=feed_dict_train)\n",
    "        \n",
    "\n",
    "        # Print status at end of each epoch (defined as full pass through training dataset).\n",
    "        if i % int(data.train.num_examples/batch_size) == 0: \n",
    "            val_loss = session.run(cost, feed_dict=feed_dict_validate)\n",
    "            epoch = int(i / int(data.train.num_examples/batch_size))\n",
    "            \n",
    "            print_progress(epoch, feed_dict_train, feed_dict_validate, val_loss)\n",
    "            \n",
    "            if early_stopping:    \n",
    "                if val_loss < best_val_loss:\n",
    "                    best_val_loss = val_loss\n",
    "                    patience = 0\n",
    "                else:\n",
    "                    patience += 1\n",
    "\n",
    "                if patience == early_stopping:\n",
    "                    break\n",
    "\n",
    "    # Update the total number of iterations performed.\n",
    "    total_iterations += num_iterations\n",
    "\n",
    "    # Ending time.\n",
    "    end_time = time.time()\n",
    "\n",
    "    # Difference between start and end-times.\n",
    "    time_dif = end_time - start_time\n",
    "\n",
    "    # Print the time-usage.\n",
    "    print(\"Time elapsed: \" + str(timedelta(seconds=int(round(time_dif)))))"
   ]
  },
  {
   "cell_type": "code",
   "execution_count": 86,
   "metadata": {},
   "outputs": [],
   "source": [
    "def plot_example_errors(cls_pred, correct):\n",
    "    # cls_pred is an array of the predicted class-number for\n",
    "    # all images in the test-set.\n",
    "\n",
    "    # correct is a boolean array whether the predicted class\n",
    "    # is equal to the true class for each image in the test-set.\n",
    "\n",
    "    # Negate the boolean array.\n",
    "    incorrect = (correct == False)\n",
    "    \n",
    "    # Get the images from the test-set that have been\n",
    "    # incorrectly classified.\n",
    "    images = data.valid.images[incorrect]\n",
    "    print(cls_pred)\n",
    "    # Get the predicted classes for those images.\n",
    "    cls_pred = cls_pred[incorrect]\n",
    "    print('printing incorrect predictions')\n",
    "    print(cls_pred)\n",
    "\n",
    "    print(data.valid.cls)\n",
    "    # Get the true classes for those images.\n",
    "    cls_true = data.valid.cls[incorrect]\n",
    "    print('printing answers for incorrect')\n",
    "    print(cls_true)\n",
    "    \n",
    "    # Plot the first 9 images.\n",
    "    plot_images(images=images[0:25],\n",
    "                cls_true=cls_true[0:25],\n",
    "                cls_pred=cls_pred[0:25])"
   ]
  },
  {
   "cell_type": "code",
   "execution_count": 87,
   "metadata": {},
   "outputs": [],
   "source": [
    "def plot_confusion_matrix(cls_pred):\n",
    "    # cls_pred is an array of the predicted class-number for\n",
    "    # all images in the test-set.\n",
    "\n",
    "    # Get the true classifications for the test-set.\n",
    "    cls_true = data.valid.cls\n",
    "    \n",
    "    # Get the confusion matrix using sklearn.\n",
    "    cm = confusion_matrix(y_true=cls_true,\n",
    "                          y_pred=cls_pred)\n",
    "\n",
    "    # Print the confusion matrix as text.\n",
    "    print(cm)\n",
    "\n",
    "    # Plot the confusion matrix as an image.\n",
    "    plt.matshow(cm)\n",
    "\n",
    "    # Make various adjustments to the plot.\n",
    "    plt.colorbar()\n",
    "    tick_marks = np.arange(num_classes)\n",
    "    plt.xticks(tick_marks, range(num_classes))\n",
    "    plt.yticks(tick_marks, range(num_classes))\n",
    "    plt.xlabel('Predicted')\n",
    "    plt.ylabel('True')\n",
    "\n",
    "    # Ensure the plot is shown correctly with multiple plots\n",
    "    # in a single Notebook cell.\n",
    "    plt.show()"
   ]
  },
  {
   "cell_type": "code",
   "execution_count": 88,
   "metadata": {},
   "outputs": [],
   "source": [
    "def print_validation_accuracy(show_example_errors=False,\n",
    "                        show_confusion_matrix=False):\n",
    "\n",
    "    # Number of images in the test-set.\n",
    "    num_test = len(data.valid.images)\n",
    "\n",
    "    # Allocate an array for the predicted classes which\n",
    "    # will be calculated in batches and filled into this array.\n",
    "    cls_pred = np.zeros(shape=num_test, dtype=np.int)\n",
    "\n",
    "    # Now calculate the predicted classes for the batches.\n",
    "    # We will just iterate through all the batches.\n",
    "    # There might be a more clever and Pythonic way of doing this.\n",
    "\n",
    "    # The starting index for the next batch is denoted i.\n",
    "    i = 0\n",
    "\n",
    "    while i < num_test:\n",
    "        # The ending index for the next batch is denoted j.\n",
    "        j = min(i + batch_size, num_test)\n",
    "        print('i is')\n",
    "        print(i)\n",
    "        print('j is')\n",
    "        print(j)\n",
    "        print(data.valid.images.shape)\n",
    "        print(data.valid.images[i:j, :].shape)\n",
    "        # Get the images from the test-set between index i and j.\n",
    "        images = data.valid.images[i:j, :].reshape(batch_size, img_size_flat)\n",
    "        \n",
    "\n",
    "        # Get the associated labels.\n",
    "        labels = data.valid.labels[i:j, :]\n",
    "\n",
    "        # Create a feed-dict with these images and labels.\n",
    "        feed_dict = {x: images,\n",
    "                     y_true: labels}\n",
    "\n",
    "        # Calculate the predicted class using TensorFlow.\n",
    "        cls_pred[i:j] = session.run(y_pred_cls, feed_dict=feed_dict)\n",
    "\n",
    "        # Set the start-index for the next batch to the\n",
    "        # end-index of the current batch.\n",
    "        i = j\n",
    "\n",
    "    cls_true = np.array(data.valid.cls)\n",
    "    cls_pred = np.array([classes[x] for x in cls_pred]) \n",
    "\n",
    "    # Create a boolean array whether each image is correctly classified.\n",
    "    correct = (cls_true == cls_pred)\n",
    "\n",
    "    # Calculate the number of correctly classified images.\n",
    "    # When summing a boolean array, False means 0 and True means 1.\n",
    "    correct_sum = correct.sum()\n",
    "\n",
    "    # Classification accuracy is the number of correctly classified\n",
    "    # images divided by the total number of images in the test-set.\n",
    "    acc = float(correct_sum) / num_test\n",
    "\n",
    "    # Print the accuracy.\n",
    "    msg = \"Accuracy on Test-Set: {0:.1%} ({1} / {2})\"\n",
    "    print(msg.format(acc, correct_sum, num_test))\n",
    "\n",
    "    # Plot some examples of mis-classifications, if desired.\n",
    "    if show_example_errors:\n",
    "        print(\"Example errors:\")\n",
    "        plot_example_errors(cls_pred=cls_pred, correct=correct)\n",
    "\n",
    "    # Plot the confusion matrix, if desired.\n",
    "    if show_confusion_matrix:\n",
    "        print(\"Confusion Matrix:\")\n",
    "        plot_confusion_matrix(cls_pred=cls_pred)"
   ]
  },
  {
   "cell_type": "code",
   "execution_count": 89,
   "metadata": {},
   "outputs": [
    {
     "name": "stdout",
     "output_type": "stream",
     "text": [
      "Epoch 1 --- Training Accuracy:  43.8%, Validation Accuracy:  28.1%, Validation Loss: 4.228\n",
      "Time elapsed: 0:00:31\n",
      "i is\n",
      "0\n",
      "j is\n",
      "32\n",
      "(64, 256, 256)\n",
      "(32, 256, 256)\n",
      "i is\n",
      "32\n",
      "j is\n",
      "64\n",
      "(64, 256, 256)\n",
      "(32, 256, 256)\n",
      "Accuracy on Test-Set: 28.1% (18 / 64)\n"
     ]
    }
   ],
   "source": [
    "optimize(num_iterations=1)\n",
    "print_validation_accuracy()"
   ]
  },
  {
   "cell_type": "code",
   "execution_count": 90,
   "metadata": {},
   "outputs": [
    {
     "name": "stdout",
     "output_type": "stream",
     "text": [
      "Epoch 2 --- Training Accuracy:  43.8%, Validation Accuracy:  28.1%, Validation Loss: 1.272\n",
      "Epoch 3 --- Training Accuracy:  25.0%, Validation Accuracy:  34.4%, Validation Loss: 1.177\n",
      "Epoch 4 --- Training Accuracy:  25.0%, Validation Accuracy:  37.5%, Validation Loss: 1.263\n",
      "Epoch 5 --- Training Accuracy:  25.0%, Validation Accuracy:  34.4%, Validation Loss: 1.195\n",
      "Epoch 6 --- Training Accuracy:  25.0%, Validation Accuracy:  37.5%, Validation Loss: 1.260\n",
      "Epoch 7 --- Training Accuracy:  25.0%, Validation Accuracy:  34.4%, Validation Loss: 1.185\n",
      "Epoch 8 --- Training Accuracy:  25.0%, Validation Accuracy:  37.5%, Validation Loss: 1.260\n",
      "Time elapsed: 0:18:11\n"
     ]
    }
   ],
   "source": [
    "#changed to 9 for now\n",
    "optimize(num_iterations=99)  # We already performed 1 iteration above."
   ]
  },
  {
   "cell_type": "code",
   "execution_count": 91,
   "metadata": {},
   "outputs": [
    {
     "name": "stdout",
     "output_type": "stream",
     "text": [
      "i is\n",
      "0\n",
      "j is\n",
      "32\n",
      "(64, 256, 256)\n",
      "(32, 256, 256)\n",
      "i is\n",
      "32\n",
      "j is\n",
      "64\n",
      "(64, 256, 256)\n",
      "(32, 256, 256)\n",
      "Accuracy on Test-Set: 35.9% (23 / 64)\n",
      "Example errors:\n",
      "['C' 'C' 'C' 'C' 'C' 'C' 'C' 'C' 'C' 'C' 'C' 'C' 'C' 'C' 'C' 'C' 'C' 'C'\n",
      " 'C' 'C' 'C' 'C' 'C' 'C' 'C' 'C' 'C' 'C' 'C' 'C' 'C' 'C' 'C' 'C' 'C' 'C'\n",
      " 'C' 'C' 'C' 'C' 'C' 'C' 'C' 'C' 'C' 'C' 'C' 'C' 'C' 'C' 'C' 'C' 'C' 'C'\n",
      " 'C' 'C' 'C' 'C' 'C' 'C' 'C' 'C' 'C' 'C']\n",
      "printing incorrect predictions\n",
      "['C' 'C' 'C' 'C' 'C' 'C' 'C' 'C' 'C' 'C' 'C' 'C' 'C' 'C' 'C' 'C' 'C' 'C'\n",
      " 'C' 'C' 'C' 'C' 'C' 'C' 'C' 'C' 'C' 'C' 'C' 'C' 'C' 'C' 'C' 'C' 'C' 'C'\n",
      " 'C' 'C' 'C' 'C' 'C']\n",
      "['B' 'M' 'M' 'M' 'C' 'C' 'C' 'M' 'C' 'M' 'C' 'M' 'C' 'B' 'B' 'C' 'B' 'M'\n",
      " 'C' 'C' 'M' 'C' 'M' 'B' 'M' 'B' 'M' 'C' 'B' 'B' 'M' 'B' 'C' 'B' 'C' 'C'\n",
      " 'C' 'B' 'M' 'C' 'M' 'M' 'M' 'B' 'B' 'X' 'B' 'B' 'C' 'B' 'M' 'B' 'C' 'M'\n",
      " 'M' 'C' 'C' 'B' 'C' 'X' 'C' 'M' 'C' 'M']\n",
      "printing answers for incorrect\n",
      "['B' 'M' 'M' 'M' 'M' 'M' 'M' 'B' 'B' 'B' 'M' 'M' 'M' 'B' 'M' 'B' 'M' 'B'\n",
      " 'B' 'M' 'B' 'B' 'B' 'M' 'M' 'M' 'M' 'B' 'B' 'X' 'B' 'B' 'B' 'M' 'B' 'M'\n",
      " 'M' 'B' 'X' 'M' 'M']\n"
     ]
    },
    {
     "data": {
      "image/png": "[encoded data removed]",
      "text/plain": [
       "<matplotlib.figure.Figure at 0x10897f048>"
      ]
     },
     "metadata": {},
     "output_type": "display_data"
    }
   ],
   "source": [
    "print_validation_accuracy(show_example_errors=True)"
   ]
  },
  {
   "cell_type": "code",
   "execution_count": 92,
   "metadata": {},
   "outputs": [],
   "source": [
    "session.close()"
   ]
  },
  {
   "cell_type": "code",
   "execution_count": null,
   "metadata": {},
   "outputs": [],
   "source": []
  },
  {
   "cell_type": "code",
   "execution_count": null,
   "metadata": {},
   "outputs": [],
   "source": []
  },
  {
   "cell_type": "code",
   "execution_count": null,
   "metadata": {},
   "outputs": [],
   "source": []
  },
  {
   "cell_type": "code",
   "execution_count": null,
   "metadata": {},
   "outputs": [],
   "source": []
  }
 ],
 "metadata": {
  "kernelspec": {
   "display_name": "Python 3",
   "language": "python",
   "name": "python3"
  },
  "language_info": {
   "codemirror_mode": {
    "name": "ipython",
    "version": 3
   },
   "file_extension": ".py",
   "mimetype": "text/x-python",
   "name": "python",
   "nbconvert_exporter": "python",
   "pygments_lexer": "ipython3",
   "version": "3.6.3"
  }
 },
 "nbformat": 4,
 "nbformat_minor": 2
}
