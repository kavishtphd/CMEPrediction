{
 "cells": [
  {
   "cell_type": "code",
   "execution_count": null,
   "metadata": {},
   "outputs": [],
   "source": [
    "from urllib.request import urlopen\n",
    "import urllib.request\n",
    "import pandas as pd\n",
    "import numpy as np\n",
    "import os\n",
    "import re"
   ]
  },
  {
   "cell_type": "code",
   "execution_count": null,
   "metadata": {},
   "outputs": [],
   "source": [
    "year = 2003\n",
    "month = 1\n",
    "while year <=2003:\n",
    "    month = 1\n",
    "    while month <=12:\n",
    "        isWack = False\n",
    "        target_url2 = 'http://soi.stanford.edu/cgi-bin/mdi/gif_dir.pl?Directory=/synoptic/gifs/magnetograms/'+str(year)+'/'+ str(month).zfill(2)\n",
    "        df2 = pd.read_fwf(target_url2,header=0, names = ['URL'])\n",
    "        #print(df2['URL'][len(df2)-3])\n",
    "        #df2.drop(df.index[len(df2['URL'])-1])\n",
    "        #df2.drop(df.index[len(df2['URL'])-2])\n",
    "        #df2.drop(df.index[len(df2['URL'])-3], inplace=False)\n",
    "        df2['URL'][0] = df2['URL'][0][16:120]\n",
    "        for index, row in df2.iterrows():\n",
    "            try:\n",
    "                df2['URL'][index+1]=df2['URL'][index+1][12:116]\n",
    "            except KeyError:\n",
    "                pass\n",
    "            try:\n",
    "                if df2['URL'][index][103] == 'g':\n",
    "                    isWack = True\n",
    "                    df2['URL'][index] = df2['URL'][index][:96]\n",
    "                    #df2['URL'][index]=np.nan\n",
    "            except IndexError:\n",
    "                pass\n",
    "        #df2.dropna(axis=0,how = 'any')\n",
    "            \n",
    "        #print(df2['URL'][122])\n",
    "        for index, row in df2.iterrows():\n",
    "            line = df2['URL'][index][76:86]\n",
    "            #print(index)\n",
    "            try:\n",
    "                fullfilename = os.path.join('FINALDATA/'+ dfGOES['Class'][int(line.replace('.',''))], line.replace('.','') +'.jpeg')\n",
    "                try:\n",
    "                    if df2['URL'][index][:86]!= df2['URL'][index-1][:86]:\n",
    "                        print(df2['URL'][index])\n",
    "                        try:\n",
    "                            urllib.request.urlretrieve(df2['URL'][index], fullfilename)\n",
    "                        except urllib.request.HTTPError as err:\n",
    "                            if err.code == 404:\n",
    "                                pass\n",
    "                except KeyError:\n",
    "                    print(df2['URL'][index])\n",
    "                    urllib.request.urlretrieve(df2['URL'][index], fullfilename)\n",
    "            except (KeyError, ValueError, FileNotFoundError) as e:\n",
    "                #print(index)\n",
    "                pass\n",
    "        month = month + 1\n",
    "    year = year + 1"
   ]
  }
 ],
 "metadata": {
  "kernelspec": {
   "display_name": "Python 3",
   "language": "python",
   "name": "python3"
  },
  "language_info": {
   "codemirror_mode": {
    "name": "ipython",
    "version": 3
   },
   "file_extension": ".py",
   "mimetype": "text/x-python",
   "name": "python",
   "nbconvert_exporter": "python",
   "pygments_lexer": "ipython3",
   "version": "3.6.3"
  }
 },
 "nbformat": 4,
 "nbformat_minor": 2
}
